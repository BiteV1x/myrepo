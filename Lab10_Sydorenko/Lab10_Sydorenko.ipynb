{
 "cells": [
  {
   "cell_type": "markdown",
   "metadata": {},
   "source": [
    "# Лабораторна робота №10. Жадібна стратегія на прикладі кодування Гафмена\n",
    "## Виконав студент групи КН23-1 Сидоренко Андрій"
   ]
  },
  {
   "cell_type": "markdown",
   "metadata": {},
   "source": [
    "__Мета.__ _Навичтись реалізовувати алгоритм побудови дерева оптимальних кодів Гафмена на основі черги з пріоритетом (за допомогою купи) засобами Python._ "
   ]
  },
  {
   "cell_type": "markdown",
   "metadata": {},
   "source": [
    "### Завдання на самостійну роботу\n",
    "\n",
    "* Побудувати дерево кодів Гафмена *згідно з варіантом індивідуального завдання практичної роботи № 9*, виданим викладачем вручну і візуалізувати дерево."
   ]
  },
  {
   "cell_type": "markdown",
   "metadata": {},
   "source": [
    "__Відповідь:__"
   ]
  },
  {
   "cell_type": "markdown",
   "metadata": {},
   "source": [
    "ABABACACABABABCABABC Варіант 18"
   ]
  },
  {
   "cell_type": "markdown",
   "metadata": {},
   "source": [
    "а - 9 (0)\n",
    "\n",
    "\n",
    "b - 7 (11)\n",
    "\n",
    "\n",
    "c - 4  (10)\n",
    "\n",
    "0110110100100110110111001101110"
   ]
  },
  {
   "cell_type": "code",
   "execution_count": 48,
   "metadata": {},
   "outputs": [
    {
     "data": {
      "image/png": "[encoded data removed]",
      "text/plain": [
       "<Figure size 640x480 with 1 Axes>"
      ]
     },
     "metadata": {},
     "output_type": "display_data"
    }
   ],
   "source": [
    "import matplotlib.pyplot as plt##Взято з лаби для +- розуміння\n",
    "import networkx as nx\n",
    "\n",
    "# Створюємо граф\n",
    "G = nx.Graph()\n",
    "\n",
    "# Додаємо ребра\n",
    "edges = [('O','A'),('O',0),(0,'B'),(0,'C')]\n",
    "\n",
    "# Додаємо ребра до графа\n",
    "G.add_edges_from(edges)\n",
    "\n",
    "# Візуалізуємо граф\n",
    "nx.draw(G, with_labels=True, node_size=1000, node_color=\"skyblue\", font_size=12, font_weight=\"bold\")\n",
    "plt.title(\"Візуалізація графа\")\n",
    "plt.show()"
   ]
  },
  {
   "cell_type": "code",
   "execution_count": 42,
   "metadata": {},
   "outputs": [],
   "source": [
    "from graphviz import Digraph # Ралізація дерва в png\n",
    "\n",
    "class Node:\n",
    "    def __init__(self, value):\n",
    "        self.value = value\n",
    "        self.left = None\n",
    "        self.right = None\n",
    "\n",
    "def add_nodes(graph, node, parent_name=None):\n",
    "    if node is not None:\n",
    "        node_name = f'{node.value}'\n",
    "        graph.node(node_name, node_name)\n",
    "        if parent_name is not None:\n",
    "            graph.edge(parent_name, node_name)\n",
    "        add_nodes(graph, node.left, node_name)\n",
    "        add_nodes(graph, node.right, node_name)\n",
    "\n",
    "def visualize_binary_tree(root):\n",
    "    graph = Digraph(format='png')\n",
    "    graph.node('root', 'root')\n",
    "    add_nodes(graph, root, 'root')\n",
    "    graph.view()\n",
    "\n",
    "# Приклад мого бінарного дерева\n",
    "#        0\n",
    "#       / \\\n",
    "#      A   0  \n",
    "#        / \\\n",
    "#       B   C\n",
    "\n",
    "root = Node('o')\n",
    "root.left = Node('a')\n",
    "root.right = Node(0)\n",
    "root.right.right = Node('c')\n",
    "root.right.left = Node('b')\n",
    "\n",
    "\n",
    "visualize_binary_tree(root)"
   ]
  },
  {
   "cell_type": "markdown",
   "metadata": {},
   "source": [
    "* Перевірити результат за допомогою коду, наведеному вище."
   ]
  },
  {
   "cell_type": "markdown",
   "metadata": {},
   "source": [
    "__Відповідь:__"
   ]
  },
  {
   "cell_type": "code",
   "execution_count": 2,
   "metadata": {},
   "outputs": [
    {
     "name": "stdout",
     "output_type": "stream",
     "text": [
      "a -> 0\n",
      "c -> 10\n",
      "b -> 11\n"
     ]
    }
   ],
   "source": [
    "# A Вузол дерева Гафмана \n",
    "import heapq \n",
    "\n",
    "\n",
    "class node: \n",
    "    def __init__(self, freq, symbol, left=None, right=None): \n",
    "        # частота символу \n",
    "        self.freq = freq \n",
    "\n",
    "        # назва символу (символ) \n",
    "        self.symbol = symbol \n",
    "\n",
    "        # вузол ліворуч від поточного вузла \n",
    "        self.left = left \n",
    "\n",
    "        # вузол праворуч від поточного вузла \n",
    "        self.right = right \n",
    "\n",
    "        # напрямок дерева (0/1) \n",
    "        self.huff = '' \n",
    "\n",
    "    def __lt__(self, nxt): \n",
    "        return self.freq < nxt.freq \n",
    "\n",
    "\n",
    "# утиліта для виведення кодів Гафмена для  \n",
    "#  всіх символів у щойно створеному дереві Гафмена \n",
    "def printNodes(node, val=''): \n",
    "\n",
    "    # Код Гафмена для поточного вузла  \n",
    "    newVal = val + str(node.huff) \n",
    "\n",
    "# якщо вершина не є реберною вершиною \n",
    "# то пройти всередині неї \n",
    "    if(node.left): \n",
    "        printNodes(node.left, newVal) \n",
    "    if(node.right): \n",
    "        printNodes(node.right, newVal) \n",
    "\n",
    "        # якщо node є реберною вершиною тоді \n",
    "        # вивести його хаффманівський код \n",
    "    if(not node.left and not node.right): \n",
    "        print(f\"{node.symbol} -> {newVal}\") \n",
    "\n",
    "\n",
    "# символи для дерева Гафмена \n",
    "chars = ['a', 'b', 'c'] \n",
    "\n",
    "# частота символів \n",
    "freq = [9, 7, 4] \n",
    "\n",
    "# список, що містить невикористані вершини \n",
    "nodes = [] \n",
    "\n",
    "# перетворення символів та частот \n",
    "# у вузли дерева Гафмена \n",
    "\n",
    "for x in range(len(chars)): \n",
    "    heapq.heappush(nodes, node(freq[x], chars[x])) \n",
    "\n",
    "while len(nodes) > 1: \n",
    "\n",
    "    # відсортувати всі вершини за зростанням \n",
    "    # на основі їх частоти \n",
    "    left = heapq.heappop(nodes) \n",
    "    right = heapq.heappop(nodes) \n",
    "\n",
    "    # присвоїти значення напрямку цим вузлам \n",
    "    left.huff = 0\n",
    "    right.huff = 1\n",
    "\n",
    "    # об'єднати 2 найменші вершини, щоб створити \n",
    "    # новий вузол як їхній батько \n",
    "    newNode = node(left.freq+right.freq, left.symbol+right.symbol, left, right) \n",
    "\n",
    "    heapq.heappush(nodes, newNode) \n",
    "\n",
    "# Друк кодів Гафмена\n",
    "printNodes(nodes[0]) "
   ]
  },
  {
   "cell_type": "markdown",
   "metadata": {},
   "source": [
    "* Написати процедуру на Python, яка для вхідного повідомлення обчислює список символів  `chars` та список їх частот `freq`. "
   ]
  },
  {
   "cell_type": "markdown",
   "metadata": {},
   "source": [
    "__Відповідь:__"
   ]
  },
  {
   "cell_type": "code",
   "execution_count": 5,
   "metadata": {},
   "outputs": [
    {
     "name": "stdout",
     "output_type": "stream",
     "text": [
      "Encoded message: 0110110100100110110111001101110\n",
      "Huffman Codes: {'A': '0', 'C': '10', 'B': '11'}\n"
     ]
    }
   ],
   "source": [
    "import heapq\n",
    "from collections import Counter\n",
    "\n",
    "class Node:\n",
    "    def __init__(self, freq, symbol, left=None, right=None):\n",
    "        # частота символу\n",
    "        self.freq = freq\n",
    "\n",
    "        # назва символу (символ)\n",
    "        self.symbol = symbol\n",
    "\n",
    "        # вузол ліворуч від поточного вузла\n",
    "        self.left = left\n",
    "\n",
    "        # вузол праворуч від поточного вузла\n",
    "        self.right = right\n",
    "\n",
    "        # напрямок дерева (0/1)\n",
    "        self.huff = ''\n",
    "\n",
    "    def __lt__(self, nxt):\n",
    "        return self.freq < nxt.freq\n",
    "\n",
    "# утиліта для виведення кодів Гаффмана для\n",
    "# всіх символів у щойно створеному дереві Гаффмана\n",
    "def get_huffman_codes(node, val='', huffman_code={}):\n",
    "    # Код Гаффмена для поточного вузла\n",
    "    newVal = val + str(node.huff)\n",
    "\n",
    "    # якщо вершина не є реберною вершиною\n",
    "    # то пройти всередині неї\n",
    "    if node.left:\n",
    "        get_huffman_codes(node.left, newVal, huffman_code)\n",
    "    if node.right:\n",
    "        get_huffman_codes(node.right, newVal, huffman_code)\n",
    "\n",
    "    # якщо node є реберною вершиною тоді\n",
    "    # зберегти його хаффманівський код у словнику\n",
    "    if not node.left and not node.right:\n",
    "        huffman_code[node.symbol] = newVal\n",
    "\n",
    "    return huffman_code\n",
    "\n",
    "def huffman_coding(message):\n",
    "    # Підрахунок частот символів у повідомленні\n",
    "    freq_dict = Counter(message)\n",
    "    \n",
    "    # Створення списків chars і freq\n",
    "    chars = list(freq_dict.keys())\n",
    "    freq = list(freq_dict.values())\n",
    "\n",
    "    # Список, що містить невикористані вершини\n",
    "    nodes = []\n",
    "\n",
    "    # Перетворення символів та частот у вузли дерева Гаффмана\n",
    "    for x in range(len(chars)):\n",
    "        heapq.heappush(nodes, Node(freq[x], chars[x]))\n",
    "\n",
    "    while len(nodes) > 1:\n",
    "        # Відсортувати всі вершини за зростанням\n",
    "        # на основі їх частоти\n",
    "        left = heapq.heappop(nodes)\n",
    "        right = heapq.heappop(nodes)\n",
    "\n",
    "        # Присвоїти значення напрямку цим вузлам\n",
    "        left.huff = 0\n",
    "        right.huff = 1\n",
    "\n",
    "        # Об'єднати 2 найменші вершини, щоб створити\n",
    "        # новий вузол як їхній батько\n",
    "        newNode = Node(left.freq + right.freq, left.symbol + right.symbol, left, right)\n",
    "\n",
    "        heapq.heappush(nodes, newNode)\n",
    "\n",
    "    # Отримання кодів Гаффмана\n",
    "    huffman_code = get_huffman_codes(nodes[0])\n",
    "\n",
    "    # Закодувати повідомлення\n",
    "    encoded_message = ''.join([huffman_code[char] for char in message])\n",
    "\n",
    "    return encoded_message, huffman_code\n",
    "\n",
    "# Приклад використання\n",
    "message = \"ABABACACABABABCABABC\"\n",
    "encoded_message, huffman_code = huffman_coding(message)\n",
    "print(f\"Encoded message: {encoded_message}\")\n",
    "print(\"Huffman Codes:\", huffman_code)\n"
   ]
  },
  {
   "cell_type": "markdown",
   "metadata": {},
   "source": [
    "* Опрацювати самостійно тему [декодування Гафмена](https://www.geeksforgeeks.org/huffman-decoding/?ref=gcse) і скориставшись наведеним там кодом, декодувати повідомлення, задане варіантом."
   ]
  },
  {
   "cell_type": "markdown",
   "metadata": {},
   "source": [
    "А що декодувати то? Ну ок"
   ]
  },
  {
   "cell_type": "code",
   "execution_count": 6,
   "metadata": {},
   "outputs": [
    {
     "name": "stdout",
     "output_type": "stream",
     "text": [
      "Character With there Frequencies:\n",
      "A 0\n",
      "B 11\n",
      "C 10\n",
      "\n",
      "Encoded Huffman data:\n",
      "0110110100100110110111001101110\n",
      "\n",
      "Decoded Huffman Data:\n",
      "ABABACACABABABCABABC\u0000\n"
     ]
    }
   ],
   "source": [
    "import heapq #з Huffman Decoding\n",
    "from collections import defaultdict\n",
    " \n",
    "# to map each character its huffman value\n",
    "codes = {}\n",
    " \n",
    "# To store the frequency of character of the input data\n",
    "freq = defaultdict(int)\n",
    " \n",
    "# A Huffman tree node\n",
    "class MinHeapNode:\n",
    "    def __init__(self, data, freq):\n",
    "        self.left = None\n",
    "        self.right = None\n",
    "        self.data = data\n",
    "        self.freq = freq\n",
    " \n",
    "    def __lt__(self, other):\n",
    "        return self.freq < other.freq\n",
    " \n",
    "# utility function to print characters along with\n",
    "# there huffman value\n",
    "def printCodes(root, str):\n",
    "    if root is None:\n",
    "        return\n",
    "    if root.data != '$':\n",
    "        print(root.data, \":\", str)\n",
    "    printCodes(root.left, str + \"0\")\n",
    "    printCodes(root.right, str + \"1\")\n",
    " \n",
    "# utility function to store characters along with\n",
    "# there huffman value in a hash table\n",
    "def storeCodes(root, str):\n",
    "    if root is None:\n",
    "        return\n",
    "    if root.data != '$':\n",
    "        codes[root.data] = str\n",
    "    storeCodes(root.left, str + \"0\")\n",
    "    storeCodes(root.right, str + \"1\")\n",
    " \n",
    "# function to build the Huffman tree and store it\n",
    "# in minHeap\n",
    "def HuffmanCodes(size):\n",
    "    global minHeap\n",
    "    for key in freq:\n",
    "        minHeap.append(MinHeapNode(key, freq[key]))\n",
    "    heapq.heapify(minHeap)\n",
    "    while len(minHeap) != 1:\n",
    "        left = heapq.heappop(minHeap)\n",
    "        right = heapq.heappop(minHeap)\n",
    "        top = MinHeapNode('$', left.freq + right.freq)\n",
    "        top.left = left\n",
    "        top.right = right\n",
    "        heapq.heappush(minHeap, top)\n",
    "    storeCodes(minHeap[0], \"\")\n",
    " \n",
    "# utility function to store map each character with its\n",
    "# frequency in input string\n",
    "def calcFreq(str, n):\n",
    "    for i in range(n):\n",
    "        freq[str[i]] += 1\n",
    " \n",
    "# function iterates through the encoded string s\n",
    "# if s[i]=='1' then move to node->right\n",
    "# if s[i]=='0' then move to node->left\n",
    "# if leaf node append the node->data to our output string\n",
    "def decode_file(root, s):\n",
    "    ans = \"\"\n",
    "    curr = root\n",
    "    n = len(s)\n",
    "    for i in range(n):\n",
    "        if s[i] == '0':\n",
    "            curr = curr.left\n",
    "        else:\n",
    "            curr = curr.right\n",
    " \n",
    "        # reached leaf node\n",
    "        if curr.left is None and curr.right is None:\n",
    "            ans += curr.data\n",
    "            curr = root\n",
    "    return ans + '\\0'\n",
    " \n",
    "# Driver code\n",
    "if __name__ == \"__main__\":\n",
    "    minHeap = []\n",
    "    str = \"ABABACACABABABCABABC\"\n",
    "    encodedString, decodedString = \"\", \"\"\n",
    "    calcFreq(str, len(str))\n",
    "    HuffmanCodes(len(str))\n",
    "    print(\"Character With there Frequencies:\")\n",
    "    for key in sorted(codes):\n",
    "        print(key, codes[key])\n",
    " \n",
    "    for i in str:\n",
    "        encodedString += codes[i]\n",
    " \n",
    "    print(\"\\nEncoded Huffman data:\")\n",
    "    print(encodedString)\n",
    " \n",
    "    # Function call\n",
    "    decodedString = decode_file(minHeap[0], encodedString)\n",
    "    print(\"\\nDecoded Huffman Data:\")\n",
    "    print(decodedString)"
   ]
  },
  {
   "cell_type": "markdown",
   "metadata": {},
   "source": [
    "## Завдання на лабораторну роботу"
   ]
  },
  {
   "cell_type": "markdown",
   "metadata": {},
   "source": [
    "1. Створити Notebook-документ за допомогою Jupyter Notebook. (Див. [тут](https://devpractice.ru/python-lesson-1-install/), [тут](https://devpractice.ru/python-lesson-6-work-in-jupyter-notebook/) і [тут](https://jupyter-notebook.readthedocs.io/en/stable/notebook.html)) і  реалізувати контрольні приклади, що розглядаються у даній роботі та виконати завдання, що винесено на самостійну роботу.\n",
    "\n",
    "1. Дати відповіді на контрольні запитання.\n",
    "\n",
    "1. Робочий документ оформити у вигляді Notebook-документу (файл __.ipynb__).\n",
    "\n",
    "1. Скомпілювати звіт у форматі __.html__. Для цього необхідно завантажити термінал і у командному рядку запустити наступну команду:\n",
    "\n",
    "`jupyter nbconvert lab_10_StudentLasName.ipynb --to html`\n",
    "\n",
    "1. Представити звіт у вигляді архіву. Проект має складатися мінімум з двох файлів: `lab_10_StudentLasName.ipynb` та `lab_10_StudentLasName.html`"
   ]
  },
  {
   "cell_type": "markdown",
   "metadata": {},
   "source": [
    "## Контрольні запитання"
   ]
  },
  {
   "cell_type": "markdown",
   "metadata": {},
   "source": [
    "1. Що таке жадібні алгоритми?\r\n"
   ]
  },
  {
   "cell_type": "markdown",
   "metadata": {},
   "source": [
    "__Відповідь:__"
   ]
  },
  {
   "cell_type": "markdown",
   "metadata": {},
   "source": [
    "Жадібні алгоритми — це клас алгоритмів, які приймають локально оптимальні рішення на кожному кроці з надією, що вони призведуть до глобально оптимального розв'язку задачі."
   ]
  },
  {
   "cell_type": "markdown",
   "metadata": {},
   "source": [
    "2. Що таке префіксний код? Який код використовується у коді Гафмена?"
   ]
  },
  {
   "cell_type": "markdown",
   "metadata": {},
   "source": [
    "__Відповідь:__"
   ]
  },
  {
   "cell_type": "markdown",
   "metadata": {},
   "source": [
    "Префіксний код — це такий код, де жодне кодове слово не починається з послідовності бітів, що утворює інше кодове слово. \n",
    "\n",
    "Як раз таки префіксний код і використовується в коді Гафмена."
   ]
  },
  {
   "cell_type": "markdown",
   "metadata": {},
   "source": [
    "3. Як пов’язана структура даних «купа» зі структурою даних «черга з пріоритетами»?"
   ]
  },
  {
   "cell_type": "markdown",
   "metadata": {},
   "source": [
    "__Відповідь:__"
   ]
  },
  {
   "cell_type": "markdown",
   "metadata": {},
   "source": [
    "Черга з пріоритетами часто реалізується з використанням купи, оскільки вона надає швидкий доступ до найвищого пріоритету та ефективне додавання нових елементів.\n",
    "\n",
    "Купа — це деревоподібна структура даних, де кожен вузол має значення, а також може мати дочірні вузли. Черга з пріоритетами, як правило, забезпечує швидкий доступ до найвищого пріоритету"
   ]
  },
  {
   "cell_type": "markdown",
   "metadata": {},
   "source": [
    "4. Що таке стиснення даних і для чого воно використовується? Які його головні переваги?"
   ]
  },
  {
   "cell_type": "markdown",
   "metadata": {},
   "source": [
    "__Відповідь:__"
   ]
  },
  {
   "cell_type": "markdown",
   "metadata": {},
   "source": [
    "Стиснення даних — це процес зменшення обсягу даних за допомогою різних методів або алгоритмів. До головних переваг стиснення відноситься економія місця, зменшння даних для передачі, покращння продуктивності, швидша обробка даних після стиснення."
   ]
  },
  {
   "cell_type": "markdown",
   "metadata": {},
   "source": [
    "5. Які кроки необхідно виконати для стиснення даних за допомогою алгоритму кодування Гафмена?"
   ]
  },
  {
   "cell_type": "markdown",
   "metadata": {},
   "source": [
    "__Відповідь:__"
   ]
  },
  {
   "cell_type": "markdown",
   "metadata": {},
   "source": [
    "* Підрахувати кількість і частоту повторення кожного символу\n",
    "* Побудувати дерево Гафмена на основі якого потім кожному символу присвоїти бітовий код\n",
    "* Замінити кожеен символ його кодом"
   ]
  },
  {
   "cell_type": "markdown",
   "metadata": {},
   "source": [
    "6. Які головні обмеження та недоліки алгоритму кодування Гафмена? Чи можливо покращити його продуктивність?"
   ]
  },
  {
   "cell_type": "markdown",
   "metadata": {},
   "source": [
    "__Відповідь:__"
   ]
  },
  {
   "cell_type": "markdown",
   "metadata": {},
   "source": [
    "До обмежень і недоліків я би відніс те, що алгоритм не ефективний на великому обсязі даних та додаткове місце для збереження дерева Гафмена. Якщо деякі  символи входять в даних значно частіше, ніж інші, то можуть виникнути проблеми з ефективністю стиснення. \n",
    "\n",
    "\n",
    "Для покращення алгоритму Гафмена, його можна комбінувати з іншими методами стиснення, зробити для нього адаптивний підхід, або використовувати в залежності від типу даних, для кращого стиснення та використання."
   ]
  },
  {
   "cell_type": "markdown",
   "metadata": {},
   "source": [
    "7. Які існують альтернативні методи стиснення даних, що можуть конкурувати з алгоритмом Гафмена?"
   ]
  },
  {
   "cell_type": "markdown",
   "metadata": {},
   "source": [
    "__Відповідь:__"
   ]
  },
  {
   "cell_type": "markdown",
   "metadata": {},
   "source": [
    "Для стиснення зображень та відео краще використовувати JPEG та MPEG, які розроблені для роботи з великими обсягами даних використовуючи різні методи.\n",
    "\n",
    "\n",
    "Для аудіо-  MP3 та AAC.  \n",
    "\n",
    "\n",
    "Алгоритм LZ77 / LZ78 / LZW використовуються у форматах стиснення даних, таких як ZIP (LZ77) і GIF (LZW), використовують словарну модель для заміни повторюваних фрагментів даних на посилання на попередні фрагменти."
   ]
  },
  {
   "cell_type": "markdown",
   "metadata": {},
   "source": [
    "8. Які практичні застосування можуть мати алгоритми стиснення даних, зокрема алгоритм Гафмена, у сучасних інформаційних ситемах?"
   ]
  },
  {
   "cell_type": "markdown",
   "metadata": {},
   "source": [
    "__Відповідь:__"
   ]
  },
  {
   "cell_type": "markdown",
   "metadata": {},
   "source": [
    "Зберігання даних, передача через мережу, архівація, стиснення текстової інформації, використання в мультимедії"
   ]
  }
 ],
 "metadata": {
  "kernelspec": {
   "display_name": "Python 3 (ipykernel)",
   "language": "python",
   "name": "python3"
  },
  "language_info": {
   "codemirror_mode": {
    "name": "ipython",
    "version": 3
   },
   "file_extension": ".py",
   "mimetype": "text/x-python",
   "name": "python",
   "nbconvert_exporter": "python",
   "pygments_lexer": "ipython3",
   "version": "3.12.2"
  }
 },
 "nbformat": 4,
 "nbformat_minor": 4
}
