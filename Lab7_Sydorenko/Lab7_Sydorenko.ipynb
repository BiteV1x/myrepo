{
 "cells": [
  {
   "cell_type": "markdown",
   "metadata": {},
   "source": [
    "### Лабораторна робота №6. Структури даних дерево і купа\n",
    "## Виконав студент групи КН23-1 Сидоренко Андрій"
   ]
  },
  {
   "cell_type": "markdown",
   "metadata": {},
   "source": [
    "__Мета.__ _Засвоїти основні функції та алгоритми роботи з деревами та купою засобами Python._ "
   ]
  },
  {
   "cell_type": "markdown",
   "metadata": {},
   "source": [
    "## Дерева"
   ]
  },
  {
   "cell_type": "markdown",
   "metadata": {},
   "source": [
    "### Завдання на самостійну роботу:\n",
    "\n",
    "* Створити бінарне дерево"
   ]
  },
  {
   "cell_type": "markdown",
   "metadata": {},
   "source": [
    "__Відповідь:__"
   ]
  },
  {
   "cell_type": "code",
   "execution_count": 10,
   "metadata": {},
   "outputs": [],
   "source": [
    "myTree = ['m',   #root\n",
    "      ['n',  #left subtree\n",
    "       ['v', [], []],\n",
    "       ['c', [], []] ],\n",
    "      ['k',  #right subtree\n",
    "       ['u', [], []],\n",
    "       [] ]\n",
    "     ]"
   ]
  },
  {
   "cell_type": "markdown",
   "metadata": {},
   "source": [
    "* Написати процедуру видалення заданої гілки дерева."
   ]
  },
  {
   "cell_type": "markdown",
   "metadata": {},
   "source": [
    "__Відповідь:__"
   ]
  },
  {
   "cell_type": "code",
   "execution_count": 21,
   "metadata": {},
   "outputs": [
    {
     "name": "stdout",
     "output_type": "stream",
     "text": [
      "Дерево до видалення гілки:\n",
      "['m', ['n', ['v', [], []], ['c', [], []]], ['k', ['u', [], []], []]]\n",
      "\n",
      "Дерево після видалення гілки 'n':\n",
      "['m', [], ['k', ['u', [], []], []]]\n"
     ]
    }
   ],
   "source": [
    "def BinaryTree(r): #Функції з лаби\n",
    "    return [r, [], []]\n",
    "\n",
    "# Додавання елемента у ліве піддерево\n",
    "def insertLeft(root, newBranch):\n",
    "    t = root.pop(1)\n",
    "    if len(t) > 1:\n",
    "        root.insert(1,[newBranch,t,[]])\n",
    "    else:\n",
    "        root.insert(1,[newBranch, [], []])\n",
    "    return root\n",
    "\n",
    "# Додавання елемента у праве піддерево\n",
    "def insertRight(root, newBranch):\n",
    "    t = root.pop(2)\n",
    "    if len(t) > 1:\n",
    "        root.insert(2,[newBranch,[],t])\n",
    "    else:\n",
    "        root.insert(2,[newBranch,[],[]])\n",
    "    return root\n",
    "\n",
    "# Повернути значення кореневого елемента\n",
    "def getRootVal(root):\n",
    "    return root[0]\n",
    "\n",
    "# Присвоєння нового значення кореневому елементу\n",
    "def setRootVal(root,newVal):\n",
    "    root[0] = newVal\n",
    "\n",
    "# Повернути ліве піддерево  \n",
    "def getLeftChild(root):\n",
    "    return root[1]\n",
    "\n",
    "# Повернути праве піддерево\n",
    "def getRightChild(root):\n",
    "    return root[2]\n",
    "def delete_branch(root, target):\n",
    "    if root:\n",
    "        if getRootVal(root) == target:\n",
    "            root[:] = []\n",
    "        else:\n",
    "            left_subtree = getLeftChild(root)\n",
    "            right_subtree = getRightChild(root)\n",
    "            if left_subtree: \n",
    "                delete_branch(left_subtree, target)\n",
    "            if right_subtree:\n",
    "                delete_branch(right_subtree, target)\n",
    "myTree = ['m',   #root\n",
    "      ['n',  #left subtree\n",
    "       ['v', [], []],\n",
    "       ['c', [], []] ],\n",
    "      ['k',  #right subtree\n",
    "       ['u', [], []],\n",
    "       [] ]\n",
    "     ]\n",
    "print(\"Дерево до видалення гілки:\")\n",
    "print(myTree)\n",
    "delete_branch(myTree, 'n')\n",
    "\n",
    "print(\"\\nДерево після видалення гілки 'n':\")\n",
    "print(myTree)"
   ]
  },
  {
   "cell_type": "markdown",
   "metadata": {},
   "source": [
    "* Оцінити асисптотичну складність (в середньому і в найгіршому випадку) процедур `search`, `insert` і `delete` роботи з деревом."
   ]
  },
  {
   "cell_type": "markdown",
   "metadata": {},
   "source": [
    "__Відповідь:__"
   ]
  },
  {
   "cell_type": "markdown",
   "metadata": {},
   "source": [
    "Асимптотично складність search:  O(log n)- у середньому випадку(якщо дерево збалансоване), та O(n) у найгіршому\n",
    "\n",
    "\n",
    "Асимптотично складність insert:  O(log n)-  у середньому випадку(якщо дерево збалансоване), та O(n) у найгіршому\n",
    "\n",
    "\n",
    "Асимптотично складність search:  O(log n)-  у середньому випадку(якщо дерево збалансоване), та O(n) у найгіршому\n",
    "\n"
   ]
  },
  {
   "cell_type": "markdown",
   "metadata": {},
   "source": [
    "\n",
    "## Купа"
   ]
  },
  {
   "cell_type": "markdown",
   "metadata": {},
   "source": [
    "### Завдання на самостійну роботу:\n",
    "\n",
    "* Написати процедуру генерації купи з будь-якого рандомного масива"
   ]
  },
  {
   "cell_type": "markdown",
   "metadata": {},
   "source": [
    "__Відповідь:__"
   ]
  },
  {
   "cell_type": "code",
   "execution_count": 24,
   "metadata": {},
   "outputs": [
    {
     "name": "stdout",
     "output_type": "stream",
     "text": [
      "Випадковий масив:\n",
      "[44, 10, 28, 59, 84, 2, 22, 2, 35, 71]\n",
      "Масив після перетворення на купу:\n",
      "[84, 71, 44, 59, 35, 2, 22, 2, 10, 28]\n"
     ]
    }
   ],
   "source": [
    "global heap #взято з лаби\n",
    "global currSize\n",
    "import random\n",
    "\n",
    "\n",
    "def parent(i): #Отримати індекс батьківського вузла для i-го елемента\n",
    "    return i // 2\n",
    "\n",
    "def left(i): #Отримати лівий дочірній елемент от i-го\n",
    "    return 2*i\n",
    "\n",
    "def right(i): #Отримати правий дочірній елемент от i-го\n",
    "    return (2*i + 1)\n",
    "\n",
    "def heapify(arr, n, i): #Генеруємо максимальну купу\n",
    "    largest = i\n",
    "    l = left(i)\n",
    "    r = right(i)\n",
    "\n",
    "    if l < n and arr[i] < arr[l]:\n",
    "        largest = l\n",
    "\n",
    "    if r < n and arr[largest] < arr[r]:\n",
    "        largest = r\n",
    "\n",
    "    if largest != i:\n",
    "        arr[i], arr[largest] = arr[largest], arr[i]\n",
    "        heapify(arr, n, largest)\n",
    "def buildHeap(arr):\n",
    "    n = len(arr)\n",
    "    for i in range(n // 2 - 1, -1, -1):\n",
    "        heapify(arr, n, i)\n",
    "random_array = [random.randint(1, 100) for _ in range(10)]\n",
    "print(\"Випадковий масив:\")\n",
    "print(random_array)\n",
    "\n",
    "buildHeap(random_array)\n",
    "print(\"Масив після перетворення на купу:\")\n",
    "print(random_array)"
   ]
  },
  {
   "cell_type": "markdown",
   "metadata": {},
   "source": [
    "* Додати до нього елемент, який дорівнює вашому порядковому номеру у списку групи"
   ]
  },
  {
   "cell_type": "markdown",
   "metadata": {},
   "source": [
    "__Відповідь:__"
   ]
  },
  {
   "cell_type": "code",
   "execution_count": 59,
   "metadata": {},
   "outputs": [
    {
     "name": "stdout",
     "output_type": "stream",
     "text": [
      "Випадковий масив:\n",
      "[93, 29, 9, 67, 59, 1, 37, 26, 89, 46]\n",
      "Масив після перетворення на купу:\n",
      "[93, 89, 59, 67, 46, 1, 37, 26, 9, 29]\n",
      "Купа після вставки елемента 25:\n",
      "[93, 89, 59, 67, 46, 25, 37, 26, 9, 29, 1]\n"
     ]
    }
   ],
   "source": [
    "global heap #взято з лаби\n",
    "global currSize\n",
    "import random\n",
    "\n",
    "\n",
    "def parent(i): #Отримати індекс батьківського вузла для i-го елемента\n",
    "    return i // 2\n",
    "\n",
    "def left(i): #Отримати лівий дочірній елемент от i-го\n",
    "    return 2*i\n",
    "\n",
    "def right(i): #Отримати правий дочірній елемент от i-го\n",
    "    return (2*i + 1)\n",
    "    \n",
    "def swap(a, b): # міняемо елемент з індексом a на елемент з індексом b ВЗЯТО З ЛАБИ\n",
    "    temp = heap[a]\n",
    "    heap[a] = heap[b]\n",
    "    heap[b] = temp\n",
    "\n",
    "\n",
    "def heapify(arr, n, i): #Генеруємо максимальну купу\n",
    "    largest = i\n",
    "    l = left(i)\n",
    "    r = right(i)\n",
    "\n",
    "    if l < n and arr[i] < arr[l]:\n",
    "        largest = l\n",
    "\n",
    "    if r < n and arr[largest] < arr[r]:\n",
    "        largest = r\n",
    "\n",
    "    if largest != i:\n",
    "        arr[i], arr[largest] = arr[largest], arr[i]\n",
    "        heapify(arr, n, largest)\n",
    "def buildHeap(arr):\n",
    "    global heap\n",
    "    global currSize\n",
    "    \n",
    "    heap = arr\n",
    "    currSize = len(arr)\n",
    "    for i in range(len(arr) // 2 - 1, -1, -1):\n",
    "        heapify(arr, len(arr), i)\n",
    "\n",
    "def insert(elem):\n",
    "    global currSize\n",
    "    \n",
    "    index = len(heap)\n",
    "    heap.append(elem)\n",
    "    currSize += 1\n",
    "    par = parent(index)\n",
    "    flag = 0\n",
    "    while flag != 1:\n",
    "        if index == 0:  # Дійшли до кореневого елемента\n",
    "            flag = 1\n",
    "        elif heap[par] > elem:  # Якщо індекс кореневого елемента більше індекса нашого елемента - наш елемент на своєму місці\n",
    "            flag = 1\n",
    "        else:  # Міняємо місцями батьківський елемент з нашим\n",
    "            swap(par, index)\n",
    "            index = par\n",
    "            par = parent(index)\n",
    "    print(heap)\n",
    "\n",
    "import random\n",
    "\n",
    "random_array = [random.randint(1, 100) for _ in range(10)]\n",
    "print(\"Випадковий масив:\")\n",
    "print(random_array)\n",
    "\n",
    "buildHeap(random_array)\n",
    "print(\"Масив після перетворення на купу:\")\n",
    "print(heap)\n",
    "print(\"Купа після вставки елемента 25:\")\n",
    "insert(25)"
   ]
  },
  {
   "cell_type": "markdown",
   "metadata": {},
   "source": [
    "* Вилучити максимальний елемент з купи"
   ]
  },
  {
   "cell_type": "markdown",
   "metadata": {},
   "source": [
    "__Відповідь:__"
   ]
  },
  {
   "cell_type": "code",
   "execution_count": 64,
   "metadata": {},
   "outputs": [
    {
     "name": "stdout",
     "output_type": "stream",
     "text": [
      "Випадковий масив:\n",
      "[93, 63, 82, 70, 1, 25, 90, 78, 23, 23]\n",
      "Масив після перетворення на купу:\n",
      "[93, 78, 90, 70, 23, 25, 82, 63, 23, 1]\n",
      "Купа після вставки елемента 25:\n",
      "[93, 78, 90, 70, 25, 25, 82, 63, 23, 1, 23]\n",
      "Видалений максимальний елемент: 93\n",
      "Купа після видалення максимального елемента:\n",
      "[90, 78, 82, 70, 25, 25, 23, 63, 23, 1]\n"
     ]
    }
   ],
   "source": [
    "heap = []\n",
    "currSize = 0\n",
    "\n",
    "def parent(i):\n",
    "    return (i - 1) // 2\n",
    "\n",
    "def left(i):\n",
    "    return 2 * i + 1\n",
    "\n",
    "def right(i):\n",
    "    return 2 * i + 2\n",
    "\n",
    "def swap(a, b):\n",
    "    heap[a], heap[b] = heap[b], heap[a]\n",
    "\n",
    "def heapify(n, i):\n",
    "    largest = i\n",
    "    l = left(i)\n",
    "    r = right(i)\n",
    "\n",
    "    if l < n and heap[i] < heap[l]:\n",
    "        largest = l\n",
    "\n",
    "    if r < n and heap[largest] < heap[r]:\n",
    "        largest = r\n",
    "\n",
    "    if largest != i:\n",
    "        swap(i, largest)\n",
    "        heapify(n, largest)\n",
    "\n",
    "def buildHeap(arr):\n",
    "    global heap, currSize\n",
    "    heap = arr\n",
    "    currSize = len(arr)\n",
    "    for i in range(len(arr) // 2 - 1, -1, -1):\n",
    "        heapify(len(arr), i)\n",
    "\n",
    "def insert(elem):\n",
    "    global currSize, heap\n",
    "    index = currSize\n",
    "    heap.append(elem)\n",
    "    currSize += 1\n",
    "    par = parent(index)\n",
    "    while index > 0 and heap[par] < heap[index]:\n",
    "        swap(par, index)\n",
    "        index = par\n",
    "        par = parent(index)\n",
    "    print(heap)\n",
    "\n",
    "def maxHeapify(index):\n",
    "    global currSize\n",
    "    \n",
    "    lar = index\n",
    "    l = left(index)\n",
    "    r = right(index)\n",
    "\n",
    "    if l < currSize and heap[l] > heap[lar]:\n",
    "        lar = l\n",
    "    if r < currSize and heap[r] > heap[lar]:\n",
    "        lar = r\n",
    "    if lar != index:\n",
    "        swap(index, lar)\n",
    "        maxHeapify(lar)\n",
    "\n",
    "def extractMax():\n",
    "    global currSize, heap\n",
    "    if currSize == 0:\n",
    "        return None\n",
    "    maxElem = heap[0]\n",
    "    heap[0] = heap[currSize - 1]\n",
    "    heap.pop()\n",
    "    currSize -= 1\n",
    "    maxHeapify(0)\n",
    "    return maxElem\n",
    "\n",
    "# Приклад використання:\n",
    "import random\n",
    "\n",
    "random_array = [random.randint(1, 100) for _ in range(10)]\n",
    "print(\"Випадковий масив:\")\n",
    "print(random_array)\n",
    "\n",
    "buildHeap(random_array)\n",
    "print(\"Масив після перетворення на купу:\")\n",
    "print(heap)\n",
    "\n",
    "print(\"Купа після вставки елемента 25:\")\n",
    "insert(25)\n",
    "\n",
    "\n",
    "\n",
    "max_elem = extractMax()\n",
    "print(\"Видалений максимальний елемент:\", max_elem)\n",
    "print(\"Купа після видалення максимального елемента:\")\n",
    "print(heap)"
   ]
  },
  {
   "cell_type": "markdown",
   "metadata": {},
   "source": [
    "* Оцінити асимптотичну складність (в середньому і в найгіршому випадку) процедур `search`, `insert` і `delete` роботи з з купою."
   ]
  },
  {
   "cell_type": "markdown",
   "metadata": {},
   "source": [
    "__Відповідь:__"
   ]
  },
  {
   "cell_type": "code",
   "execution_count": null,
   "metadata": {},
   "outputs": [],
   "source": [
    "Асимптотично складність search:  O(n)- у середньому випадку, та O(n) у найгіршому\n",
    "\n",
    "\n",
    "Асимптотично складність insert:  O(log n)-  у середньому випадку, та O(log n) у найгіршому\n",
    "\n",
    "\n",
    "Асимптотично складність search:  O(log n)-  у середньому випадку, та O(log n) у найгіршому\n",
    "\n"
   ]
  },
  {
   "cell_type": "markdown",
   "metadata": {},
   "source": [
    "## Контрольні запитання"
   ]
  },
  {
   "cell_type": "markdown",
   "metadata": {},
   "source": [
    "1. Чим відрізняється структура _бінарне дерево_ він _бінарного дерева пошуку_?"
   ]
  },
  {
   "cell_type": "markdown",
   "metadata": {},
   "source": [
    "__Відповідь:__"
   ]
  },
  {
   "cell_type": "markdown",
   "metadata": {},
   "source": [
    "Відмінність між бінарним деревом і бінарним деревом пошуку полягає у можливості впорядкування вузлів у випадку BST, що робить його ефективною структурою для пошуку даних."
   ]
  },
  {
   "cell_type": "markdown",
   "metadata": {},
   "source": [
    "2. Чим відрізняється структура _бінарне дерево_ від _бінарної купи_?"
   ]
  },
  {
   "cell_type": "markdown",
   "metadata": {},
   "source": [
    "__Відповідь:__"
   ]
  },
  {
   "cell_type": "markdown",
   "metadata": {},
   "source": [
    "Основна відмінність між бінарним деревом і бінарною купою: бінарне дерево може бути використане для різноманітних завдань, в той час як бінарна купа зазвичай використовується для реалізації пріоритетних черг або сортування."
   ]
  }
 ],
 "metadata": {
  "kernelspec": {
   "display_name": "Python 3 (ipykernel)",
   "language": "python",
   "name": "python3"
  },
  "language_info": {
   "codemirror_mode": {
    "name": "ipython",
    "version": 3
   },
   "file_extension": ".py",
   "mimetype": "text/x-python",
   "name": "python",
   "nbconvert_exporter": "python",
   "pygments_lexer": "ipython3",
   "version": "3.12.2"
  }
 },
 "nbformat": 4,
 "nbformat_minor": 4
}
