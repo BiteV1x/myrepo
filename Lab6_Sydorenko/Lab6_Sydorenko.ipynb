{
 "cells": [
  {
   "cell_type": "markdown",
   "metadata": {},
   "source": [
    "### Лабораторна робота №5. Структури даних стек і черга.\n",
    "## Виконав учень групи КН23-1 Сидоренко Андрій "
   ]
  },
  {
   "cell_type": "markdown",
   "metadata": {},
   "source": [
    "__Мета.__ _засвоїти головні функції та алгоритми роботи зі стеком і чергою засобами Python._ "
   ]
  },
  {
   "cell_type": "markdown",
   "metadata": {},
   "source": [
    "## Що ви будете уміти?\n",
    "\r",
    "* \n",
    "Реалізовувати структури даних «стек і черга» мовою Python\n",
    "* \r\n",
    "Працювати зі структурами даних «стек і черга» на мові Pytho.\r\n"
   ]
  },
  {
   "cell_type": "markdown",
   "metadata": {},
   "source": [
    "## Стек"
   ]
  },
  {
   "cell_type": "markdown",
   "metadata": {},
   "source": [
    "[Стек](https://proglib.io/p/data-structures/) -- це базова структура даних, в якій ми можемо тільки вставляти або видаляти елементи на початку стека. Він нагадує стопку книг. Якщо ми хочемо дістати книгу з середини стека, ми спочатку маємо взяти книги, що лежать зверху.\n",
    "Стек організовано за принципом __LIFO (Last In First Out)__ -- це означає, що останній елемент, який доданий в стек, -- це перший елемент, який з нього виходить.\n",
    "\n",
    "![Рис. 1. Принцип організації стеку](image/stack.png)"
   ]
  },
  {
   "cell_type": "markdown",
   "metadata": {},
   "source": [
    "### Операції зі стеком"
   ]
  },
  {
   "cell_type": "markdown",
   "metadata": {},
   "source": [
    "Існує [три основні операції](https://proglib.io/p/data-structures/), які можуть виконуватися в стеках: вставляння елемента в стек (__push__), видалення елемента зі стека (__pop__) і відображення вмісту стека (__pip__).  \n",
    "\n",
    "У Python роботу зі стеком [можна реалізувати](https://codereview.stackexchange.com/questions/82802/stack-implementation-in-python) за допомогою списку наступного набору методів:\n",
    "\n",
    "1. **Stack()** -- створює новий пустий стек.\n",
    "   Параметри не потрібні, повертає пустий стек.\n",
    "2. **push(item)** -- додає новий елемент на вершину стека. \n",
    "   В якості параметра виступає елемент; функція нічого не повертає.\n",
    "3. **pop()** -- видаляє верхній елемент зі стека. \n",
    "   Параметри не потребуються, функція повертає елемент. Стек змінюється.\n",
    "4. **peek()** -- повертає верхній елемент стеку, але не видаляє його. \n",
    "   Параметри не потребуються, стек не модифікується.\n",
    "5. **isEmpty()** -- перевіряє стек на пустоту. \n",
    "   Параметри не потребуються, повертає бульове значення.\n",
    "6. **size()** -- повертає кількість елементів у стеку. \n",
    "   Параметри не потребуються, тип результата -- ціле число."
   ]
  },
  {
   "cell_type": "markdown",
   "metadata": {},
   "source": [
    "### [Реалізація стеку на Python](https://codereview.stackexchange.com/questions/82802/stack-implementation-in-python)"
   ]
  },
  {
   "cell_type": "code",
   "execution_count": 15,
   "metadata": {},
   "outputs": [],
   "source": [
    "# У стилі ООП\n",
    "class Stack:\n",
    "     def __init__(self):\n",
    "         self.items = []\n",
    "\n",
    "     def isEmpty(self):\n",
    "         return self.items == []\n",
    "\n",
    "     def push(self, item):\n",
    "         self.items.append(item)\n",
    "\n",
    "     def pop(self):\n",
    "         return self.items.pop()\n",
    "\n",
    "     def peek(self):\n",
    "         return self.items[-1]\n",
    "\n",
    "     def size(self):\n",
    "         return len(self.items)"
   ]
  },
  {
   "cell_type": "code",
   "execution_count": 18,
   "metadata": {},
   "outputs": [
    {
     "name": "stdout",
     "output_type": "stream",
     "text": [
      "None\n",
      "3\n",
      "true\n"
     ]
    }
   ],
   "source": [
    "s = Stack()\n",
    "s.push('hello')\n",
    "s.push('true')\n",
    "print(s.push('true'))\n",
    "# print(s.pop())\n",
    "print(s.size())\n",
    "print(s.peek())"
   ]
  },
  {
   "cell_type": "code",
   "execution_count": 8,
   "metadata": {},
   "outputs": [
    {
     "name": "stdout",
     "output_type": "stream",
     "text": [
      "true\n"
     ]
    }
   ],
   "source": [
    "print(s.pop())"
   ]
  },
  {
   "cell_type": "markdown",
   "metadata": {},
   "source": [
    "__Завдання на самостійну роботу:__\n",
    "\n",
    "* Написати функцію `pop_n()`, що видаляє елементи стеку з його початку до номеру `n` включно.\n"
   ]
  },
  {
   "cell_type": "markdown",
   "metadata": {},
   "source": [
    "__Відповідь:__"
   ]
  },
  {
   "cell_type": "code",
   "execution_count": 12,
   "metadata": {},
   "outputs": [],
   "source": [
    "class Stack:\n",
    "    def __init__(self):\n",
    "        self.items = []\n",
    "\n",
    "    def isEmpty(self):\n",
    "        return self.items == []\n",
    "\n",
    "    def push(self, item):\n",
    "        self.items.append(item)\n",
    "\n",
    "    def pop(self):\n",
    "        return self.items.pop()\n",
    "\n",
    "    def peek(self):\n",
    "        return self.items[-1]\n",
    "\n",
    "    def size(self):\n",
    "        return len(self.items)\n",
    "\n",
    "def pop_n(stack, n):\n",
    "    for _ in range(n):\n",
    "        stack.pop()\n",
    "    print(\"Елементи стеку після видалення перших\", n, \"елементів:\")\n",
    "    while not stack.isEmpty():\n",
    "        print(stack.pop())"
   ]
  },
  {
   "cell_type": "markdown",
   "metadata": {},
   "source": [
    "* Оцінити асисптотичну складність (в середньому і в найгіршому випадку) процедур `search`, `insert` і `delete` роботи зі стеком."
   ]
  },
  {
   "cell_type": "markdown",
   "metadata": {},
   "source": [
    "__Відповідь:__"
   ]
  },
  {
   "cell_type": "markdown",
   "metadata": {},
   "source": [
    "Асимптотично складність search: $O(n)$ (пройти через кожен елемент)\n",
    "\n",
    "\n",
    "Асимптотично складність insert: $O(1)$ (1 операція)\n",
    "\n",
    "\n",
    "Асимптотично складність delete: $O(1)$ (1 операція)"
   ]
  },
  {
   "cell_type": "markdown",
   "metadata": {},
   "source": [
    "\n",
    "## Черга"
   ]
  },
  {
   "cell_type": "markdown",
   "metadata": {},
   "source": [
    "[__Черга__](https://github.com/yorko/python_intro) -- це впорядкована колекція елементів, в якій додавання нових елементів відбувається з одного кінця, що називається \"хвостом черги\", а видалення їх - з іншого (\"голова черги\"). Як тільки елемент додається в кінець черги, він починає свій шлях до її початку, чекаючи видалення попередніх.\n",
    "\n",
    "![Рис. 2. Принцип організації черги](image/queue.png)"
   ]
  },
  {
   "cell_type": "markdown",
   "metadata": {},
   "source": [
    "Чергу організовано за приниципом __FIFO (First In First Out)__. Це означає, що після додавання нового елемента всі елементи, які були додані до цього, повинні бути видалені до того, як новий елемент буде видалено.\n",
    "У черзі є тільки дві основні операції: enqueue і dequeue. Enqueue означає вставити елемент в кінець черги, а dequeue означає видалення переднього елемента."
   ]
  },
  {
   "cell_type": "markdown",
   "metadata": {},
   "source": [
    "### Операції з чергою"
   ]
  },
  {
   "cell_type": "markdown",
   "metadata": {},
   "source": [
    "1. **Queue()** Створює нову пусту чергу. Не потребує параметрів, повертає пусту чергу.\n",
    "2. **enqueue(item)** добавляє новий елемент в кінець черги. Потребує елемент в якості параметра, нічого не повертає.\n",
    "3. **dequeue()** видаляє з черги перший елемент. Не потребує параметрів, повертає елемент. Черга не змінюється.\n",
    "4. **isEmpty()** перевіряє чергу на пустоту. Не потребує параметрів, повертає булєве значення.\n",
    "5. **size()** повертає кількість елементів в черзі (ціле число). Не потребує параметрів.\n",
    "\n",
    "\n",
    "\n",
    "[](https://docs.python.org/2/library/queue.html)"
   ]
  },
  {
   "cell_type": "code",
   "execution_count": 4,
   "metadata": {},
   "outputs": [],
   "source": [
    "class Queue:\n",
    "    def __init__(self):\n",
    "        self.items = []\n",
    "\n",
    "    def isEmpty(self):\n",
    "        return self.items == []\n",
    "\n",
    "    def enqueue(self, item):\n",
    "        self.items.insert(0,item)\n",
    "\n",
    "    def dequeue(self):\n",
    "        return self.items.pop()\n",
    "\n",
    "    def size(self):\n",
    "        return len(self.items)"
   ]
  },
  {
   "cell_type": "code",
   "execution_count": 5,
   "metadata": {},
   "outputs": [
    {
     "data": {
      "text/plain": [
       "1"
      ]
     },
     "execution_count": 5,
     "metadata": {},
     "output_type": "execute_result"
    }
   ],
   "source": [
    "q = Queue()\n",
    "q.isEmpty()\n",
    "q.enqueue(2)\n",
    "q.isEmpty()\n",
    "q.size()"
   ]
  },
  {
   "cell_type": "code",
   "execution_count": 6,
   "metadata": {},
   "outputs": [
    {
     "name": "stdout",
     "output_type": "stream",
     "text": [
      "[2]\n"
     ]
    }
   ],
   "source": [
    "print(q.items)"
   ]
  },
  {
   "cell_type": "markdown",
   "metadata": {},
   "source": [
    "### Завдання на самостійну роботу: {#sam}\n",
    "\n",
    "* Розглянути самостійно [Приклад 3 офіційної документації модулю Queue.](http://john16blog.blogspot.com/2012/05/python-queue.html)"
   ]
  },
  {
   "cell_type": "markdown",
   "metadata": {},
   "source": [
    "* Написати функцію `print_n()`, що друкує елементи черги з його початку до номеру `n` включно."
   ]
  },
  {
   "cell_type": "markdown",
   "metadata": {},
   "source": [
    "__Відповідь:__"
   ]
  },
  {
   "cell_type": "code",
   "execution_count": null,
   "metadata": {},
   "outputs": [],
   "source": [
    "class Queue:\n",
    "    def __init__(self):\n",
    "        self.items = []\n",
    "\n",
    "    def isEmpty(self):\n",
    "        return self.items == []\n",
    "\n",
    "    def enqueue(self, item):\n",
    "        self.items.insert(0, item)\n",
    "\n",
    "    def dequeue(self):\n",
    "        return self.items.pop()\n",
    "\n",
    "    def size(self):\n",
    "        return len(self.items)\n",
    "\n",
    "def print_n(queue, n):\n",
    "    count = 0\n",
    "    while count < n and not queue.isEmpty():\n",
    "        print(queue.dequeue())\n",
    "        count += 1"
   ]
  },
  {
   "cell_type": "markdown",
   "metadata": {},
   "source": [
    "* Оцінити асисптотичну складність (в середньому і в найгіршому випадку) процедур `search`, `insert` і `delete` роботи з чергою."
   ]
  },
  {
   "cell_type": "markdown",
   "metadata": {},
   "source": [
    "__Відповідь:__"
   ]
  },
  {
   "cell_type": "markdown",
   "metadata": {},
   "source": [
    "З чергою та ж сама ситуація як і зі стеком:\n",
    "\n",
    "\n",
    "Асимптотично складність search: $O(n)$ (пройти через кожен елемент)\n",
    "\n",
    "\n",
    "Асимптотично складність insert: $O(1)$ (1 операція)\n",
    "\n",
    "\n",
    "Асимптотично складність delete: $O(1)$ (1 операція)"
   ]
  },
  {
   "cell_type": "markdown",
   "metadata": {},
   "source": [
    "## Завдання на лабораторну роботу"
   ]
  },
  {
   "cell_type": "markdown",
   "metadata": {},
   "source": [
    "1. Створити Notebook--документ за допомогою Jupyter Notebook чи Jupyter Lab. (Див. [тут](https://devpractice.ru/python-lesson-1-install/), [тут](https://devpractice.ru/python-lesson-6-work-in-jupyter-notebook/) і [тут](https://jupyter-notebook.readthedocs.io/en/stable/notebook.html)) і  реалізувати приклади, що розглядаються у цій роботі та виконати завдання, які винесено на [самостійну роботу](#sam).\n",
    "\n",
    "1. Дати відповіді на [контрольні запитання](#control).\n",
    "\n",
    "1. Робочий документ оформити у вигляді Notebook-документу (файл __.ipynb__).\n",
    "\n",
    "1. Скомпілювати звіт у форматі __.html__. Для цього необхідно завантажити термінал і у командному рядку запустити наступну команду:\n",
    "\n",
    "`jupyter nbconvert lab_5_StudentLasName.ipynb --to html`, або з використанням [Quarto](https://quarto.org/), взявши за основу цей ipynb-зошит.\n",
    "\n",
    "1. Представити звіт у вигляді архіву. Проект має складатися мінімум з двох файлів: `lab_5_StudentLasName.ipynb` та `lab_5_StudentLasName.html`."
   ]
  },
  {
   "cell_type": "markdown",
   "metadata": {},
   "source": [
    "## Контрольні запитання\n"
   ]
  },
  {
   "cell_type": "markdown",
   "metadata": {},
   "source": [
    "__1.__ Що таке стек і які операції можна виконувати зі стеком?і?\r\n"
   ]
  },
  {
   "cell_type": "markdown",
   "metadata": {},
   "source": [
    "__Відповідь:__"
   ]
  },
  {
   "cell_type": "markdown",
   "metadata": {},
   "source": [
    "Стек – це базова структура даних, в якій ми можемо тільки вставляти або видаляти елементи на початку стека. Він нагадує стопку книг. Якщо ми хочемо дістати книгу з середини стека, ми спочатку маємо взяти книги, що лежать зверху."
   ]
  },
  {
   "cell_type": "markdown",
   "metadata": {},
   "source": [
    "__2.__ Яка основна відмінність між стеком та чергою?"
   ]
  },
  {
   "cell_type": "markdown",
   "metadata": {},
   "source": [
    "__Відповідь:__"
   ]
  },
  {
   "cell_type": "markdown",
   "metadata": {},
   "source": [
    "Стек і черга майже однакові по своєму функціоналу, але різниця в тому, що у стеку ми працюємо з одним кінцем стеку ( останній елемент, який доданий в стек- це перший елемент, який з нього виходить), а у черзі ми додаємо елементи в один кінець, а видаляємо з іншого."
   ]
  },
  {
   "cell_type": "markdown",
   "metadata": {},
   "source": [
    "__3.__ Як ви можете реалізувати стек за допомогою масиву і за допомогою зв’язаного списку? Які переваги та недоліки кожного підходу?"
   ]
  },
  {
   "cell_type": "markdown",
   "metadata": {},
   "source": [
    "__Відповідь:__"
   ]
  },
  {
   "cell_type": "markdown",
   "metadata": {},
   "source": [
    "__Реалізація через масив:__\n",
    "\n",
    "* У цьому підході елементи стеку зберігаються в масиві, а вершина стеку вказує на останній доданий елемент.\n",
    "* Додавання елемента вимагає додавання нового елемента до кінця масиву та збільшення вершини стеку.\r",
    "* \n",
    "Видалення елемент) вимагає видалення останнього елемента з масиву та зменшення вершини стеку\n",
    "\n",
    ".\r\n",
    "Переваги: простота реалізації, ефективний доступ до елементів за їх індексам\n",
    "\n",
    "и.\r\n",
    "Недоліки: обмежений розмір стір), можливість переповнення сте\n",
    "\n",
    "\n",
    "__Реалізація через зв'язний список:__\n",
    "\n",
    "* У цьому підході кожен елемент стеку зберігається у вузлі з посиланням на наступний елемент,а вершина стеку вказує на перший елемент списку.\n",
    "* Додавання нового елемента вимагає створення нового вузла та оновлення посилань.\r",
    "* \n",
    "Видалення елементу) вимагає видалення першого вузла та оновлення вершини стеку\n",
    "\n",
    ".\r\n",
    "Переваги: динамічний розмір стеку, можливість працювати з великими обсягами даних, немає ризику переповненн\n",
    "\n",
    "я.\r\n",
    "Недоліки: більше операцій з пам'яів), менш ефективний доступ до елеменом).ку."
   ]
  },
  {
   "cell_type": "markdown",
   "metadata": {},
   "source": [
    "__4.__ Які є застосування стека та черги в програмуванні і реальному житі?"
   ]
  },
  {
   "cell_type": "markdown",
   "metadata": {},
   "source": [
    "__Відповідь:__"
   ]
  },
  {
   "cell_type": "markdown",
   "metadata": {},
   "source": [
    "Стеки та черги є важливими структурами даних, які знаходять використовують для: управління викликами функцій, рекурсії, виконання алгоритмів DFS, управління виразами(стек) та  обробки завдань в черговому режимі, алгоритмів BFS, очікування ресурсів, очікування ресурсів(чрга)"
   ]
  },
  {
   "cell_type": "markdown",
   "metadata": {},
   "source": [
    "## References"
   ]
  },
  {
   "cell_type": "markdown",
   "metadata": {},
   "source": [
    "1. [Anaconda (Python distribution).](https://uk.wikipedia.org/wiki/Anaconda_(Python_distribution))\n",
    "1. [Conda.](https://conda.io/en/latest/)\n",
    "1. [Научно-издательская система Quarto.](https://data-visualization-blog.netlify.app/posts/quarto/)\n",
    "1. [Callout Blocks. Markdown Syntax.](https://quarto.org/docs/authoring/callouts.html)\n",
    "1. [Алгоритми та структури даних на Python.](https://github.com/yorko/python_intro)"
   ]
  }
 ],
 "metadata": {
  "kernelspec": {
   "display_name": "Python 3 (ipykernel)",
   "language": "python",
   "name": "python3"
  },
  "language_info": {
   "codemirror_mode": {
    "name": "ipython",
    "version": 3
   },
   "file_extension": ".py",
   "mimetype": "text/x-python",
   "name": "python",
   "nbconvert_exporter": "python",
   "pygments_lexer": "ipython3",
   "version": "3.12.2"
  }
 },
 "nbformat": 4,
 "nbformat_minor": 4
}
