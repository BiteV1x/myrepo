{
 "cells": [
  {
   "cell_type": "markdown",
   "metadata": {},
   "source": [
    "<img src='Img/photo_2024-01-08_15-52-13.jpg' width=300, height=300>"
   ]
  },
  {
   "cell_type": "markdown",
   "metadata": {},
   "source": [
    "---\n",
    "## \"Лабораторна робота №1. Робота в середовищі Anaconda\" \n",
    "### Виконавець: Студент групи КН23-1 Сидоренко Андрій.\n"
   ]
  },
  {
   "cell_type": "markdown",
   "metadata": {},
   "source": [
    "__Мета:__ _quick start для роботи в середовищі Anaconda із застосуванням Jupyter Notebook або Jupyter Lab засобами мови програмування Python._"
   ]
  },
  {
   "cell_type": "markdown",
   "metadata": {
    "tags": []
   },
   "source": [
    "## Що ви будете вміти?\n",
    "* Інсталлювати дистрибутив Python Anaconda.\n",
    "* Налаштовувати віртуальне середовище за допомогою системи управління віртуальним середовищем Conda для Windows.\n",
    "* Інсталювати допоміжні бібліотеки.\n",
    "* Створювати у середовищі Jupyter Notebook або Jupyter Lab інтерактивні документи на кшталт того, який ви читаєте в дану хвилину.\n",
    "* Використовувати науково-технічну видавничу систему Quarto разом з Jupyter Notebook або Jupyter Lab"
   ]
  },
  {
   "cell_type": "markdown",
   "metadata": {
    "jp-MarkdownHeadingCollapsed": true
   },
   "source": [
    "## Завдання для самостіної роботи\n",
    "\n",
    "1. Завантажити і встановити збірку `Python Anaconda`.\n",
    "![Stage1-Anaconda](Img/Anaconda.png)\n",
    "1. Через інтерфейс командного рядка налаштувати за допомогою `conda` віртуальне середовище з ім'ям `<StudentLastName>_OpenCV`. Етапи роботи підтвердити скріншотами.\n",
    "![Stage2-CreateOpenCV](Img/OpenCV.png)\n",
    "1. Проінсталювати в створене середовище пакети, необхідні для роботи з `OpenCV`.\n",
    "![Stage3-downloadmatplotlib](Img/mathlib.jpg)\n",
    "![Stage3-downloadNumpy](Img/numpy.png)\n",
    "1. Створити Notebook-документ `<lab_1_StudentLastName>` за допомогою Jupyter Notebook. (Див. [тут](https://devpractice.ru/python-lesson-1-install/), [тут](https://devpractice.ru/python-lesson-6-work-in-jupyter-notebook/) і [тут](https://jupyter-notebook.readthedocs.io/en/stable/notebook.html)).\n",
    "\n",
    "1. Подати в робочому документі (\"зошиті\" ipython) виконання пунктів 1-3 індивідуального завдання.\n",
    "\n",
    "1. Робочий документ оформити у вигляді Notebook-документу (файл __.ipynb__).\n",
    "\n",
    "1. Дати відповіді на контрольні запитання.\n",
    "\n",
    "1. Скомпілювати звіт у форматі __.html__. Для цього необхідно завантажити термінал і у командному рядку запустити наступну команду:\n",
    "\n",
    "`jupyter nbconvert lab_2_Sydorenko.ipynb --to html`\n",
    "\n",
    "10. Представити звіт у вигляді архіву. Проект має складатися мінімум з двох файлів: `lab_1_StudentLastName.ipynb` та `lab_1_StudentLastName.html`"
   ]
  },
  {
   "cell_type": "markdown",
   "metadata": {},
   "source": [
    "## Контрольні запитання\n",
    "\n",
    "1. Що таке `pip` і `conda` та чим вони відрізняються між собою?\n",
    "Слід зазначити, що з консолі можна встановлювати пакети Python двома способами:\r\n",
    "* за допомогою менеджера пакетів pip, що входить до складу інсталяції Python;\r\n",
    "* за допомогою conda.\r\n",
    "\r\n",
    "Слід зазначити, що на відміну від pip, який є менеджером пакетів, conda є програмою більш високого рівня, яка, окрім функцій менеджера пакетів, забезпечує функції управління віртуальним середовищConda включає власний менеджер середовища і дає деякі переваги щодо Virtualenv. Крім того, середовища Conda повністю сумісні з базовими пакетами мови Python, які можуть бути встановлені за допомогою pip.v'?\n",
    "андного рядка?"
   ]
  },
  {
   "cell_type": "markdown",
   "metadata": {},
   "source": [
    "2. Як буде виглядати виконання пунктів 1-3 індивідуального завдання за допомогою 'Virtualenv'?\n",
    "\n",
    "Завдання 1: Зайти на офіційний сайт та завантажити збірку.\n",
    "\n",
    "Завдання 2: буде виконуватись командою \"python -m venv Sydorenko_OpenCV\" \n",
    "\n",
    "Завдання 2: буде виконуватись командою \"pip install -r\""
   ]
  },
  {
   "cell_type": "markdown",
   "metadata": {},
   "source": [
    "3. Сфотографувати себе на телефон та імпортувати свое зображення у форматі .png на початок робочого зошита"
   ]
  },
  {
   "cell_type": "markdown",
   "metadata": {},
   "source": [
    "4. Написати процедуру на `Python` сортування масиву методом бульбашки."
   ]
  },
  {
   "cell_type": "code",
   "execution_count": 7,
   "metadata": {
    "scrolled": true
   },
   "outputs": [
    {
     "name": "stdout",
     "output_type": "stream",
     "text": [
      "Відсортований масив:\n",
      "11 12 22 25 34 64 90 "
     ]
    }
   ],
   "source": [
    "def bubble_sort(array):\n",
    "    n = len(array)\n",
    "    for i in range(n):\n",
    "        for j in range(0, n-i-1): # Оскільки останній i елемент вже на місці\n",
    "            if array[j] > array[j+1] :\n",
    "                array[j], array[j+1] = array[j+1], array[j]\n",
    "\n",
    "# Використання процедури\n",
    "arr = [64, 34, 25, 12, 22, 11, 90]\n",
    "\n",
    "bubble_sort(arr)\n",
    "\n",
    "print(\"Відсортований масив:\")\n",
    "for i in range(len(arr)):\n",
    "    print(\"%d\" %arr[i], end=\" \")"
   ]
  },
  {
   "cell_type": "markdown",
   "metadata": {},
   "source": [
    "5. Як виконати компіляцію вхідного документа `Jupyter Notebook` із його середовища, не використовуючи інтерфейс командного рядка?\n",
    "* Через графічну оболонку в Jupyter оберіть потрібний вам файл.\n",
    "* Натисніть в головному меню пункт File.\n",
    "* Оберіть підпункт Save and Export Notebook AS...\n",
    "* Оберіть в якому форматі компілювати."
   ]
  },
  {
   "cell_type": "markdown",
   "metadata": {},
   "source": [
    "## References"
   ]
  },
  {
   "cell_type": "markdown",
   "metadata": {},
   "source": [
    "1. [Anaconda (Python distribution)](https://uk.wikipedia.org/wiki/Anaconda_(Python_distribution))\n",
    "1. [Conda.](https://conda.io/en/latest/)\n",
    "1. [Научно-издательская система Quarto](https://data-visualization-blog.netlify.app/posts/quarto/)\n",
    "1. [Callout Blocks. Markdown Syntax](https://quarto.org/docs/authoring/callouts.html)  "
   ]
  }
 ],
 "metadata": {
  "kernelspec": {
   "display_name": "Python 3 (ipykernel)",
   "language": "python",
   "name": "python3"
  },
  "language_info": {
   "codemirror_mode": {
    "name": "ipython",
    "version": 3
   },
   "file_extension": ".py",
   "mimetype": "text/x-python",
   "name": "python",
   "nbconvert_exporter": "python",
   "pygments_lexer": "ipython3",
   "version": "3.12.2"
  }
 },
 "nbformat": 4,
 "nbformat_minor": 4
}
