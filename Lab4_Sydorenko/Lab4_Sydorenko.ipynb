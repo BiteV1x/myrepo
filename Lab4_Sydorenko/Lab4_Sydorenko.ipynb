{
 "cells": [
  {
   "cell_type": "markdown",
   "metadata": {},
   "source": [
    "## Лабораторна робота №4. Рекурсія. Стратегія \"розділяй і володарюй\".\n",
    "\n",
    "### Виконавець: студент групи КН23-1\n",
    "\n",
    "# Сидоренко Андрій\n"
   ]
  },
  {
   "cell_type": "markdown",
   "metadata": {},
   "source": [
    "__Мета.__ _Засвоїти технологію реалізації рекурсивних алгоритмів засобами Python і оцінку їх складності з використанням основної теореми рекурсії._ "
   ]
  },
  {
   "cell_type": "markdown",
   "metadata": {},
   "source": [
    "::: callout-note\n",
    "## Примітка\n",
    "По цій темі є відео на http://krnu.org.\n",
    ":::"
   ]
  },
  {
   "cell_type": "markdown",
   "metadata": {},
   "source": [
    "## Короткі теоретичні відомості"
   ]
  },
  {
   "cell_type": "markdown",
   "metadata": {},
   "source": [
    "Як визначити, який порядок складності буде мати рекурсивна функція, не проводячи обчислювальних експериментів?\n",
    "\n",
    "Рекурсія є розбиття задачі  на підзадачі з послідуючою консолідацією результата. \n",
    "\n",
    "Нехай:\n",
    "\n",
    "- $a$ - кількість підзадач\n",
    "\n",
    "- розмір кожної підзадачі зменшується в $b$ раз і стає рівним $[\\frac{n}{b}]$.\n",
    "\n",
    "- складність консолідаціїї нехай є $O(n^d)$.\n",
    "\n",
    "Час роботи такого алгоритму, виражений рекурентно, буде\n",
    "\n",
    "$T(n)=aT([\\frac{n}{b}])+O(n^d)$.\n",
    "\n",
    "__Теорема__. Нехай $T(n)=aT([\\frac{n}{b}])+O(n^d)$ для деяких $a>0, b>1,d\\ge0$, тоді \n",
    "\n",
    "$\\begin{equation*}\n",
    "F_n = \n",
    "\\begin{cases}\n",
    "O(n^d), &\\text{якщо $d>log_ba$,}\\\\\n",
    "O(n^dlogn), &\\text{якщо $d=log_ba$,}\\\\\n",
    "O(n^{log_ba}), &\\text{якщо $d<log_ba$.}\n",
    "\\end{cases}\n",
    "\\end{equation*}$"
   ]
  },
  {
   "cell_type": "markdown",
   "metadata": {},
   "source": [
    "## Обчислення факторіалу."
   ]
  },
  {
   "cell_type": "markdown",
   "metadata": {},
   "source": [
    "Обчислити факторіал: $$n!=n \\cdot (n-1) \\cdot (n-2) \\cdot ... \\cdot 1$$"
   ]
  },
  {
   "cell_type": "code",
   "execution_count": 1,
   "metadata": {},
   "outputs": [],
   "source": [
    "def FacSimple(n):\n",
    "\n",
    "    #Обчислення факторіала за допомогою  цикла while\n",
    "    \n",
    "    factorial = 1\n",
    "    i = 1 \n",
    "    \n",
    "    while i <= n:\n",
    "        factorial *= i\n",
    "        i += 1\n",
    "    \n",
    "    return factorial\n",
    "    "
   ]
  },
  {
   "cell_type": "code",
   "execution_count": 2,
   "metadata": {},
   "outputs": [
    {
     "data": {
      "text/plain": [
       "120"
      ]
     },
     "execution_count": 2,
     "metadata": {},
     "output_type": "execute_result"
    }
   ],
   "source": [
    "FacSimple(5)"
   ]
  },
  {
   "cell_type": "markdown",
   "metadata": {},
   "source": [
    "__Завдання на самостійну роботу.__ Реалізувати процедуру обчислення факторіалу за допомогою цикла __for__. Оцінити асимптотичну складність алгоритму."
   ]
  },
  {
   "cell_type": "markdown",
   "metadata": {},
   "source": [
    "Обчислимо факторіал за допомогою рекурсії."
   ]
  },
  {
   "cell_type": "code",
   "execution_count": 3,
   "metadata": {},
   "outputs": [],
   "source": [
    "def fac(n):\n",
    "    \n",
    "    # Обчислення факторіала через рекурсію\n",
    "    \n",
    "    if n == 0:\n",
    "        return(1)\n",
    "    return fac(n-1) * n"
   ]
  },
  {
   "cell_type": "code",
   "execution_count": 4,
   "metadata": {},
   "outputs": [
    {
     "name": "stdout",
     "output_type": "stream",
     "text": [
      "5\n"
     ]
    },
    {
     "data": {
      "text/plain": [
       "120"
      ]
     },
     "execution_count": 4,
     "metadata": {},
     "output_type": "execute_result"
    }
   ],
   "source": [
    "n = int(input())\n",
    "fac(n)"
   ]
  },
  {
   "cell_type": "markdown",
   "metadata": {},
   "source": [
    "Пакет `math` мови `Python` має  функцію для обчислення факторіала: "
   ]
  },
  {
   "cell_type": "code",
   "execution_count": 5,
   "metadata": {},
   "outputs": [
    {
     "data": {
      "text/plain": [
       "120"
      ]
     },
     "execution_count": 5,
     "metadata": {},
     "output_type": "execute_result"
    }
   ],
   "source": [
    "import math\n",
    "\n",
    "math.factorial(5)"
   ]
  },
  {
   "cell_type": "markdown",
   "metadata": {},
   "source": [
    "__Завдання на самостійну роботу.__ Оцінити асимптотичну складність рекурсивного алгоритму обчислення факторіалу."
   ]
  },
  {
   "cell_type": "markdown",
   "metadata": {},
   "source": [
    "## Обчислення чисел Фібоначчі"
   ]
  },
  {
   "cell_type": "markdown",
   "metadata": {},
   "source": [
    "$\\{0,1,1,2,3,5,8,13,21,34,...\\}$\n",
    "\n",
    "_Рекурентна форма визначення:_\n",
    "\n",
    "$\\begin{equation*}\n",
    "F_n = \n",
    "\\begin{cases}\n",
    "0, &\\text{якщо $n=0$,}\\\\\n",
    "1, &\\text{якщо $n=1$,}\\\\\n",
    "F_{n-1}+F_{n-2}, &\\text{якщо $n>1$.}\n",
    "\\end{cases}\n",
    "\\end{equation*}$"
   ]
  },
  {
   "cell_type": "code",
   "execution_count": 6,
   "metadata": {},
   "outputs": [],
   "source": [
    "def fibonacci(n):\n",
    "    \n",
    "    #Рекурсивне обчислення n-го числа Фібоначчі\n",
    "    \n",
    "    if n == 0:\n",
    "        return 0\n",
    "    if n in (1, 2):\n",
    "        return 1\n",
    "    return fibonacci(n - 1) + fibonacci(n - 2)"
   ]
  },
  {
   "cell_type": "code",
   "execution_count": 7,
   "metadata": {},
   "outputs": [
    {
     "name": "stdout",
     "output_type": "stream",
     "text": [
      "832040\n"
     ]
    }
   ],
   "source": [
    "print(fibonacci(30))"
   ]
  },
  {
   "cell_type": "markdown",
   "metadata": {},
   "source": [
    "__Завдання на самостійну роботу.__ Оцінити асимптотичну складність рекурсивного алгоритму обчислення $n$-го числа Фібоначчі."
   ]
  },
  {
   "cell_type": "markdown",
   "metadata": {},
   "source": [
    "\n",
    "## Сортування злиттям"
   ]
  },
  {
   "cell_type": "markdown",
   "metadata": {},
   "source": [
    "Метод декомпозиції, або метод (стратегія) \"розділяй і володарюй\".\n",
    "\n",
    "Часто рекурсивні алгоритми розробляються за допопомогою стратегії \"розділяй і володарюй\": складна задача розділяється на декілька простих, які подібні початковій задачі, але мають менший об'єм. Далі задачі розв'язуються рекурсивним методом з послідуючим комбінуванням розв'язків.\n",
    "\n",
    "Парадигма \"розділяй і володарюй\" на кожному рівні рекурсії містить три кроки:\n",
    "\n",
    "- _Поділ_ задачі на декілька підзадач.\n",
    "\n",
    "- _Володарювання_ над підзадачами шляхом їх рекурсивного розв'язку.\n",
    "\n",
    "- _Комбінування_ розв'язків підзадач у розв'язок початкової задачі.\n",
    "\n",
    "Алгоритм _сортування злиттям (merge sort)_ точно слідує парадигмі \"розділяй і володарюй\":\n",
    "\n",
    "- _Поділ._ Ділимо $n$-елементну послідовність на дві підпослідовності по $n/2$ елементів.\n",
    "\n",
    "- _Володарювання._ Рекурсивно сортуємо ці дві послідовності методом злиття.\n",
    "\n",
    "- _Комбінування._ Поєднуємо дві відсортовані підпослідовності для отримання остаточного відсортованого результату.\n",
    "\n",
    "![Приклад сортуванням злиттям](image\\Merge-sort-example-300px.gif)"
   ]
  },
  {
   "cell_type": "code",
   "execution_count": 8,
   "metadata": {},
   "outputs": [],
   "source": [
    "def merge(left, right):\n",
    "    \n",
    "    #Зливає два відсортованих масиви left і right у один\n",
    "    \n",
    "    result = []\n",
    "    i, j = 0, 0\n",
    "    while i < len(left) and j < len(right):\n",
    "        if left[i] <= right[j]:\n",
    "            result.append(left[i])\n",
    "            i += 1\n",
    "        else:\n",
    "            result.append(right[j])\n",
    "            j += 1\n",
    "    result += left[i:]\n",
    "    result += right[j:]\n",
    "    return result\n",
    "\n",
    "def mergesort(list):\n",
    "    \n",
    "    #Рекурсивна функція сортування з використанням попередньої функції\n",
    "    \n",
    "    if len(list) < 2:\n",
    "        return list\n",
    "    middle = len(list) // 2\n",
    "    left = mergesort(list[:middle])\n",
    "    right = mergesort(list[middle:])\n",
    "    return merge(left, right)"
   ]
  },
  {
   "cell_type": "code",
   "execution_count": 9,
   "metadata": {},
   "outputs": [],
   "source": [
    "a = [6, 5, 3, 1, 8, 7, 2, 4]"
   ]
  },
  {
   "cell_type": "code",
   "execution_count": 10,
   "metadata": {},
   "outputs": [
    {
     "data": {
      "text/plain": [
       "[1, 2, 2, 3, 4, 5, 6, 7]"
      ]
     },
     "execution_count": 10,
     "metadata": {},
     "output_type": "execute_result"
    }
   ],
   "source": [
    "merge([2, 4, 5, 7], [1, 2, 3, 6])"
   ]
  },
  {
   "cell_type": "code",
   "execution_count": 11,
   "metadata": {},
   "outputs": [
    {
     "data": {
      "text/plain": [
       "[1, 2, 3, 4, 5, 6, 7, 8]"
      ]
     },
     "execution_count": 11,
     "metadata": {},
     "output_type": "execute_result"
    }
   ],
   "source": [
    "mergesort(a)"
   ]
  },
  {
   "cell_type": "markdown",
   "metadata": {},
   "source": [
    "__Завдання на самостійну роботу__. Оцінити асимптотичну складність алгоритму сортування злиттям, використовуючи основну теорему рекурсії."
   ]
  },
  {
   "cell_type": "markdown",
   "metadata": {},
   "source": [
    "## Завдання на лабораторну роботу"
   ]
  },
  {
   "cell_type": "markdown",
   "metadata": {},
   "source": [
    "1. Створити Notebook-документ за допомогою Jupyter Notebook, або Jupyter Lab. (Див. [тут](https://devpractice.ru/python-lesson-1-install/), [тут](https://devpractice.ru/python-lesson-6-work-in-jupyter-notebook/) і [тут](https://jupyter-notebook.readthedocs.io/en/stable/notebook.html)) і  реалізувати контрольні приклади, що розглядаються у цій роботі, та виконати завдання, які винесено на самостійну роботу.\n",
    "\n",
    "1. Дати відповіді на контрольні запитання.\n",
    "\n",
    "1. Робочий документ оформити у вигляді Notebook-документу (файл __.ipynb__).\n",
    "\n",
    "1. Скомпілювати звіт у форматі __.html__. Для цього необхідно завантажити термінал і у командному рядку запустити наступну команду:\n",
    "\n",
    "`jupyter nbconvert lab_3_StudentLasName.ipynb --to html`\n",
    "\n",
    "1. Представити звіт у вигляді архіву. Проєкт має складатися мінімум з двох файлів: `lab_3_StudentLasName.ipynb` та `lab_3_StudentLasName.html`"
   ]
  },
  {
   "cell_type": "markdown",
   "metadata": {},
   "source": [
    "__Завдання на самостійну роботу.__ Реалізувати процедуру обчислення факторіалу за допомогою цикла __for__. Оцінити асимптотичну складність алгоритму."
   ]
  },
  {
   "cell_type": "code",
   "execution_count": 2,
   "metadata": {},
   "outputs": [],
   "source": [
    "def factorial(n):\n",
    "    \n",
    "    result = 1\n",
    "    \n",
    "    for i in range(1, n + 1):\n",
    "        result *= i\n",
    "        \n",
    "    return result"
   ]
  },
  {
   "cell_type": "code",
   "execution_count": 5,
   "metadata": {},
   "outputs": [
    {
     "data": {
      "text/plain": [
       "120"
      ]
     },
     "execution_count": 5,
     "metadata": {},
     "output_type": "execute_result"
    }
   ],
   "source": [
    "factorial(5)"
   ]
  },
  {
   "cell_type": "markdown",
   "metadata": {},
   "source": [
    "Асимтотична складніть алгоритму =n"
   ]
  },
  {
   "cell_type": "markdown",
   "metadata": {},
   "source": [
    "__Завдання на самостійну роботу__. Оцінити асимптотичну складність рекурсивного алгоритму обчислення факторіалу."
   ]
  },
  {
   "cell_type": "markdown",
   "metadata": {},
   "source": [
    "Асимтотична складніть алгоритму =n"
   ]
  },
  {
   "cell_type": "markdown",
   "metadata": {},
   "source": [
    "__Завдання на самостійну роботу__. Оцінити асимптотичну складність рекурсивного алгоритму обчислення \n",
    "-го числа Фібоначчі."
   ]
  },
  {
   "cell_type": "markdown",
   "metadata": {},
   "source": [
    "Асимтотична складніть алгоритму =n^2"
   ]
  },
  {
   "cell_type": "markdown",
   "metadata": {},
   "source": [
    "__Завдання на самостійну роботу__. Оцінити асимптотичну складність алгоритму сортування злиттям, використовуючи основну теорему рекурсії."
   ]
  },
  {
   "cell_type": "markdown",
   "metadata": {},
   "source": [
    "Асимтотична складніть алгоритму =n^2"
   ]
  },
  {
   "cell_type": "markdown",
   "metadata": {},
   "source": [
    "## Контрольні запитання"
   ]
  },
  {
   "cell_type": "markdown",
   "metadata": {},
   "source": [
    "1. Дати визначення складності задачі з символом $\\Omega$."
   ]
  },
  {
   "cell_type": "markdown",
   "metadata": {},
   "source": [
    "Відповідь: Символ $\\Omega$ використовується для визначення нижньої межі складності алгоритму.\n",
    "\n",
    "Формально, складність задачі описується за допомогою $\\Omega$, якщо для даного алгоритму існує функція f(n), така, що час виконання алгоритму є принаймні порівняно з функцією f(n), якщо n зростає нескінченно.\n"
   ]
  },
  {
   "cell_type": "markdown",
   "metadata": {},
   "source": [
    "2. Функція часової складності має вигляд: $F(N)=N^3+7N^2-14N$. Як записати аисмптотичну складність в нотації $O()$?"
   ]
  },
  {
   "cell_type": "markdown",
   "metadata": {},
   "source": [
    "Відповідь:  $О(N^3)$"
   ]
  },
  {
   "cell_type": "markdown",
   "metadata": {},
   "source": [
    "3. Функція часової складності має вигляд: $F(N)=1.01^N+N^{10}$. Як записати аисмптотичну складність в нотації $O()$?"
   ]
  },
  {
   "cell_type": "markdown",
   "metadata": {},
   "source": [
    "Відповідь: $1.01^N$"
   ]
  },
  {
   "cell_type": "markdown",
   "metadata": {},
   "source": [
    "4. Функція часової складності має вигляд: $F(N)=N^{1.3}+10log_2N$. Як записати аисмптотичну складність в нотації $O()$?"
   ]
  },
  {
   "cell_type": "markdown",
   "metadata": {},
   "source": [
    "Відповідь: $N^{1.3}$"
   ]
  },
  {
   "cell_type": "markdown",
   "metadata": {},
   "source": [
    "5. У чому полягає ідея розпаралелювання обчислень і для чого вона використовується? Які з алгоритмів, наведених у цій лабораторній роботі, дозволяють розпаралелювання?"
   ]
  },
  {
   "cell_type": "markdown",
   "metadata": {},
   "source": [
    "Відповідь: Ідея розпаралелювання обчислень полягає в поділі обчислювальних задач на підзадачі, які можуть виконуватися одночасно на кількох процесорах або ядрах. Це дозволяє зменшити загальний час виконання задачі, підвищуючи ефективність використання обчислювальних ресурсів. \n",
    "\n",
    "У цій лабораторній роботі розпаралелення можно використовувати на сортуванні злиттям."
   ]
  },
  {
   "cell_type": "markdown",
   "metadata": {},
   "source": [
    "6. Які існують шляхи підвищення обчислювальної швидкості алгоритмів? Який з них є найбільш ефективним?"
   ]
  },
  {
   "cell_type": "markdown",
   "metadata": {},
   "source": [
    "Відповідь: розпаралелювання, підвищення продуктивності комп'ютера, оновлення комплектуючих, пониження асимптотичної складності, оптимізація коду, зменшення обсягу даних, оптимізація алгоритму"
   ]
  },
  {
   "cell_type": "markdown",
   "metadata": {},
   "source": [
    "## References"
   ]
  },
  {
   "cell_type": "markdown",
   "metadata": {},
   "source": [
    "1. [Anaconda (Python distribution).](https://uk.wikipedia.org/wiki/Anaconda_(Python_distribution))\n",
    "1. [Conda.](https://conda.io/en/latest/)\n",
    "1. [Научно-издательская система Quarto.](https://data-visualization-blog.netlify.app/posts/quarto/)\n",
    "1. [Callout Blocks. Markdown Syntax.](https://quarto.org/docs/authoring/callouts.html)  "
   ]
  }
 ],
 "metadata": {
  "kernelspec": {
   "display_name": "Python 3 (ipykernel)",
   "language": "python",
   "name": "python3"
  },
  "language_info": {
   "codemirror_mode": {
    "name": "ipython",
    "version": 3
   },
   "file_extension": ".py",
   "mimetype": "text/x-python",
   "name": "python",
   "nbconvert_exporter": "python",
   "pygments_lexer": "ipython3",
   "version": "3.12.2"
  }
 },
 "nbformat": 4,
 "nbformat_minor": 4
}
