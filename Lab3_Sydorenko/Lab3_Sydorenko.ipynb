{
 "cells": [
  {
   "cell_type": "markdown",
   "metadata": {},
   "source": [
    "### Лабораторна робота №2. Аналіз складності алгоритмів (short version)"
   ]
  },
  {
   "cell_type": "markdown",
   "metadata": {},
   "source": [
    "## Вконавець: Сидоренко Андрій. Група: КН23-1"
   ]
  },
  {
   "cell_type": "markdown",
   "metadata": {},
   "source": [
    "__Мета:__ _Освоїти аналіз складності алгоритмів як технологію на прикладі алгоритмів сортування методами вставляння та бульбашки._ "
   ]
  },
  {
   "cell_type": "markdown",
   "metadata": {},
   "source": [
    "## Що я буду вміти?\n",
    "* Виконувати асимптотичний аналіз складності алгоритмів.\n",
    "* Досліджувати часову складінсть алгоритмів емпіричним шляхом засобами мови `Python`.\n",
    "* Вибирати оптимальний алгоритм.\n",
    "* Генерувати випадкові послідовності чисел засобами `Python`\n",
    "* Будувати графіки засобами бібліотеки `matplotlib`"
   ]
  },
  {
   "cell_type": "markdown",
   "metadata": {},
   "source": [
    "## Оцінка часу роботи програми емпіричним шляхом на мові Python"
   ]
  },
  {
   "cell_type": "markdown",
   "metadata": {},
   "source": [
    "Відомо, що оцінка асимптотичної складності алгоритму сортування методом включення (див. рис.) (вставки) дорівнює $O(n^2)$, тобто при збільшенні розміру задачі у два рази, час на її виконання збільшується вчетверо.  \n",
    "Іноді корисно вміти оцінювати час виконання алгоритму на практиці, особливо у випадку, коли необхідно порівняти різні алгоритми з однаковою аисмптотикою при малих розмірах задачі."
   ]
  },
  {
   "cell_type": "markdown",
   "metadata": {},
   "source": [
    "Один з можливих підходів оцінки часу виконання програми, написаної на Python, може бути реалізований за допомогою пакету `time`.  \n",
    "Нижче наведено код процедури на `Python`, який реалізує алгоритм сортування методом вставки, і дозволяє оцінити час її виконання."
   ]
  },
  {
   "cell_type": "code",
   "execution_count": 8,
   "metadata": {},
   "outputs": [
    {
     "name": "stdout",
     "output_type": "stream",
     "text": [
      "[-5, 0, 4, 18, 21, 120]\n",
      "--- 0.0 seconds ---\n"
     ]
    }
   ],
   "source": [
    "import time\n",
    "# \n",
    "start_time = time.time()\n",
    "# Сорутвання методом вставок (включення)\n",
    "\n",
    "def insertion_sort(nums):\n",
    "    # починаємо з другого елемента\n",
    "    for j in range(1, len(nums)):\n",
    "        key = nums[j]\n",
    "        # Зберігаємо посилання на індекс першого елемента\n",
    "        i = j - 1\n",
    "        # Елементи відсортованого сегрмента переміщуємо вперед, якщо вони більше елемента вставки\n",
    "        while i >= 0 and nums[i] > key:\n",
    "            nums[i + 1] = nums[i]\n",
    "            i -= 1\n",
    "        # Вставляємо елемент\n",
    "        nums[i + 1] = key\n",
    "\n",
    "\n",
    "# Перевірка\n",
    "random_list_of_numbers = [0, -5, 120, 18, 21, 4]\n",
    "\n",
    "insertion_sort(random_list_of_numbers)\n",
    "print(random_list_of_numbers)\n",
    "\n",
    "print(\"--- %s seconds ---\" % (time.time() - start_time))"
   ]
  },
  {
   "cell_type": "markdown",
   "metadata": {},
   "source": [
    "\n",
    "\n",
    "Для того, щоби дослідити функцію часової залежності $T(n)$ від розміру задачі, необхідно вміти:\n",
    "* генерувати послідовності чисел заданої довжини\n",
    "* будувати графіки у середовищі Anaconda Python.  \n",
    "Генерація випадкових послідовностей заданої довжини заданого розподілу, в тому числі і цілочисельних, у середовищи `Python` може бути здійснена засобами стандартної бібліотеки `random`. (Див. детально [тут](https://www.youtube.com/watch?v=_uQrJ0TkZlc) тему `Generating Random Values`).  \n",
    "\n",
    "Покажемо один з можливих варіантів побудови графіка функції за допомогою бібліотеки `matplotlib`."
   ]
  },
  {
   "cell_type": "code",
   "execution_count": 14,
   "metadata": {},
   "outputs": [
    {
     "data": {
      "text/plain": [
       "[<matplotlib.lines.Line2D at 0x1ce1871dd00>]"
      ]
     },
     "execution_count": 14,
     "metadata": {},
     "output_type": "execute_result"
    },
    {
     "data": {
      "image/png": "[encoded data removed]",
      "text/plain": [
       "<Figure size 432x288 with 1 Axes>"
      ]
     },
     "metadata": {
      "needs_background": "light"
     },
     "output_type": "display_data"
    }
   ],
   "source": [
    "import matplotlib.pyplot as plt\n",
    "%matplotlib inline\n",
    "plt.plot([1, 2, 3, 4, 5], [1, 4, 9, 16, 25])"
   ]
  },
  {
   "cell_type": "markdown",
   "metadata": {},
   "source": [
    "Детально розібратися з установкою бібілотеки `matplotlib` можна [тут](https://devpractice.ru/matplotlib-lesson-1-quick-start-guide/)."
   ]
  },
  {
   "cell_type": "markdown",
   "metadata": {},
   "source": [
    "## Завдання для самостіної роботи\n",
    "\n",
    "1. Завантажити `Python Anaconda` та активувати в ньому віртуальне середовище, створене при виконанні попередньої лабораторної роботи.\n",
    "\n",
    "1. Створити Notebook-документ `<lab_2_StudentLastName>` за допомогою Jupyter Notebook. (Див. [тут](https://devpractice.ru/python-lesson-1-install/), [тут](https://devpractice.ru/python-lesson-6-work-in-jupyter-notebook/) і [тут](https://jupyter-notebook.readthedocs.io/en/stable/notebook.html)).\n"
   ]
  },
  {
   "cell_type": "markdown",
   "metadata": {},
   "source": [
    "3. Виконати теоретичні розрахунки асимптотичної складності алгоритмів сорутвання методами вставки та бульбашки."
   ]
  },
  {
   "cell_type": "markdown",
   "metadata": {},
   "source": [
    "__Відповідь:__"
   ]
  },
  {
   "cell_type": "markdown",
   "metadata": {},
   "source": [
    "Асимптотична складність алгоритму вставки у найгіршому випадку = $О(n^2)$\n",
    "\n",
    "Асимптотична складність алгоритму бульбашки у найгіршому випадку (m+1)*n, m=n , дорівнює $O(n^2)$  "
   ]
  },
  {
   "cell_type": "markdown",
   "metadata": {},
   "source": [
    "4. Реалізувати на Python алгоритм сортування методом бульбашки."
   ]
  },
  {
   "cell_type": "markdown",
   "metadata": {},
   "source": [
    "__Відповідь:__"
   ]
  },
  {
   "cell_type": "code",
   "execution_count": null,
   "metadata": {},
   "outputs": [],
   "source": [
    "def bubble_sort(arr):\n",
    "    n = len(arr)\n",
    "    for i in range(n):\n",
    "        swapped = False\n",
    "        for j in range(0, n-i-1):\n",
    "            if arr[j] > arr[j+1]:\n",
    "                arr[j], arr[j+1] = arr[j+1], arr[j]\n",
    "                swapped = True\n",
    "        if not swapped:\n",
    "            break\n",
    "    return arr"
   ]
  },
  {
   "cell_type": "markdown",
   "metadata": {},
   "source": [
    "5. Дослідити реальний час виконання обох алгоритмів на `Python` і побудувати графіки залежностей $T_{insert}(n)$ та $T_{buble}(n)$ для $n = [5, 10, 50, 100, 500, 1000, 2000, 3000, 4000, 5000, 10000, 20000, 50000, 100000]$, згенерувавши відповідні цілочисельні масиви. "
   ]
  },
  {
   "cell_type": "markdown",
   "metadata": {},
   "source": [
    "__Відповідь:__ "
   ]
  },
  {
   "cell_type": "code",
   "execution_count": 1,
   "metadata": {},
   "outputs": [
    {
     "data": {
      "image/png": "[encoded data removed]",
      "text/plain": [
       "<Figure size 1000x500 with 1 Axes>"
      ]
     },
     "metadata": {},
     "output_type": "display_data"
    }
   ],
   "source": [
    "import random\n",
    "import time\n",
    "import matplotlib.pyplot as plt\n",
    "\n",
    "def generate_random_list(size, lower_bound, upper_bound):\n",
    "\n",
    "    return [random.randint(lower_bound, upper_bound) for _ in range(size)]\n",
    "\n",
    "def bubble_sort(arr):\n",
    "    n = len(arr)\n",
    "    for i in range(n):\n",
    "        swapped = False\n",
    "        for j in range(0, n-i-1):\n",
    "            if arr[j] > arr[j+1]:\n",
    "                arr[j], arr[j+1] = arr[j+1], arr[j]\n",
    "                swapped = True\n",
    "        if not swapped:\n",
    "            break\n",
    "    return arr\n",
    "\n",
    "def insertion_sort(nums):\n",
    "    for j in range(1, len(nums)):\n",
    "        key = nums[j]\n",
    "        i = j - 1\n",
    "        while i >= 0 and nums[i] > key:\n",
    "            nums[i + 1] = nums[i]\n",
    "            i -= 1\n",
    "        nums[i + 1] = key\n",
    "    return nums\n",
    "\n",
    "sizes = [5, 10, 50, 100, 500, 1000, 2000, 3000, 4000, 5000]\n",
    "times_bubble = []\n",
    "times_insertion = []\n",
    "\n",
    "for size in sizes:\n",
    "    random_list = generate_random_list(size, -10000, 10000)\n",
    "    \n",
    "    # Timing bubble sort\n",
    "    start_time = time.time()\n",
    "    bubble_sort(random_list.copy())\n",
    "    end_time = time.time()\n",
    "    times_bubble.append(end_time - start_time)\n",
    "    \n",
    "    # Timing insertion sort\n",
    "    start_time = time.time()\n",
    "    insertion_sort(random_list.copy())\n",
    "    end_time = time.time()\n",
    "    times_insertion.append(end_time - start_time)\n",
    "\n",
    "# Plotting the results\n",
    "plt.figure(figsize=(10, 5))\n",
    "plt.plot(sizes, times_bubble, label='Сортування бульбашкою', marker='o')\n",
    "plt.plot(sizes, times_insertion, label='Сортування вставкою', marker='o')\n",
    "plt.xlabel('Кількість чисел масиву')\n",
    "plt.ylabel('Час (с)')\n",
    "plt.title('Час компіляції в залежності від алгоритму')\n",
    "plt.legend()\n",
    "plt.grid(True)\n",
    "plt.show()\n"
   ]
  },
  {
   "cell_type": "markdown",
   "metadata": {},
   "source": [
    "6. Робочий документ оформити у вигляді Notebook-документу (файл __.ipynb__).\n",
    "\n",
    "7. Дати відповіді на контрольні запитання.\n",
    "\n",
    "8. Скомпілювати звіт у форматі __.html__. Для цього необхідно завантажити термінал і у командному рядку запустити наступну команду:\n",
    "\n",
    "`jupyter nbconvert lab_2_StudentLastName.ipynb --to html`\n",
    "\n",
    "9. Представити звіт у вигляді архіву. Проект має складатися мінімум з двох файлів: `lab_2_StudentLastName.ipynb` та `lab_2_StudentLastName.html`"
   ]
  },
  {
   "cell_type": "markdown",
   "metadata": {},
   "source": [
    "## Контрольні запитання\n",
    "\n",
    "1. Що таке $O-нотація$  і чим вона відрізняється від $\\Omega-нотації$?"
   ]
  },
  {
   "cell_type": "markdown",
   "metadata": {},
   "source": [
    "__Відповідь:__ "
   ]
  },
  {
   "cell_type": "markdown",
   "metadata": {},
   "source": [
    "$O-нотація$ використовується для вираження верхньої межі складності алгоритму. Вона показує, як швидко зростає час виконання або використання пам'яті алгоритму в найгіршому випадку \n",
    "\n",
    "$\\Omega-нотації$ використовується для визначення нижньої межі складності алгоритму.\n",
    "\n",
    "$O-нотація$: зазвичай використовується для опису найгіршого випадку і є більш поширеною у практичному використанні. В той час коли$\\Omega-нотації$: використовується для опису найкращого випадку, що алгоритм виконується не менш ніж за певний час"
   ]
  },
  {
   "cell_type": "markdown",
   "metadata": {},
   "source": [
    "2. Яку часову складність має алгоритм сортування методом вставки за найсприятливішої умови, коли масив відсортовано? Відповідь обгрунтувати. "
   ]
  },
  {
   "cell_type": "markdown",
   "metadata": {},
   "source": [
    "__Відповідь:__ "
   ]
  },
  {
   "cell_type": "markdown",
   "metadata": {},
   "source": [
    "Алгоритм методом вставки у найкращому випадку має $O(n)$. \n",
    "\n",
    "Алгоритм  виконує n-1 порівняння, бо він порівнює кожен елемент з попереднім (знаходить, що елемент вже на своєму місці) і кКількість порівнянь для кожного елемента буде 1."
   ]
  },
  {
   "cell_type": "markdown",
   "metadata": {},
   "source": [
    "3. Дати визначення ефективного алогоритму."
   ]
  },
  {
   "cell_type": "markdown",
   "metadata": {},
   "source": [
    "__Відповідь:__ "
   ]
  },
  {
   "cell_type": "markdown",
   "metadata": {},
   "source": [
    "Ефективний алгоритм- це алгоритм, який виконує свою задачу, використовуючиневелику кількість ресурсів, порівняно з іншими алгоритмами для розв'язання."
   ]
  },
  {
   "cell_type": "markdown",
   "metadata": {},
   "source": [
    "4. Пояснити поняття головного параметра (розміру) задачі."
   ]
  },
  {
   "cell_type": "markdown",
   "metadata": {},
   "source": [
    "__Відповідь:__ "
   ]
  },
  {
   "cell_type": "markdown",
   "metadata": {},
   "source": [
    "Головний параметр(розмір) задачі- це величина, яка характеризує обсяг вхідних даних для нашої задачі. Тобто є ключовою характеристикою для оцінки ефективності алгоритмів, від якої залежить як швидко і скільки ресурсів потрібно для вирішення задачі даним алгоритмом"
   ]
  },
  {
   "cell_type": "markdown",
   "metadata": {},
   "source": [
    "5. \tФункція часової складності має вигляд: $F(N)=N^3+7N^2-14N$ .\n",
    "\n",
    "Як записати аисмптотичну складність в нотації O()?"
   ]
  },
  {
   "cell_type": "markdown",
   "metadata": {},
   "source": [
    "__Відповідь:__ "
   ]
  },
  {
   "cell_type": "markdown",
   "metadata": {},
   "source": [
    "$O(n^3)$, бо $n^3$ є найшвидше зростаючою функцією"
   ]
  },
  {
   "cell_type": "markdown",
   "metadata": {},
   "source": [
    "### References"
   ]
  },
  {
   "cell_type": "markdown",
   "metadata": {},
   "source": [
    "1. Anaconda (Python distribution). https://uk.wikipedia.org/wiki/Anaconda_(Python_distribution)\n",
    "1. Conda. https://conda.io/en/latest/\n",
    "1. [Научно-издательская система Quarto](https://data-visualization-blog.netlify.app/posts/quarto/)\n",
    "1. [Callout Blocks. Markdown Syntax](https://quarto.org/docs/authoring/callouts.html)  "
   ]
  }
 ],
 "metadata": {
  "kernelspec": {
   "display_name": "Python 3 (ipykernel)",
   "language": "python",
   "name": "python3"
  },
  "language_info": {
   "codemirror_mode": {
    "name": "ipython",
    "version": 3
   },
   "file_extension": ".py",
   "mimetype": "text/x-python",
   "name": "python",
   "nbconvert_exporter": "python",
   "pygments_lexer": "ipython3",
   "version": "3.12.2"
  }
 },
 "nbformat": 4,
 "nbformat_minor": 4
}
