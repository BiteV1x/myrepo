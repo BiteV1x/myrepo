{
 "cells": [
  {
   "cell_type": "markdown",
   "metadata": {},
   "source": [
    "### Лабораторна робота №5. Алгоритми пошуку. Стратегія \"грубої сили\". \n",
    "## Виконавець: Учень групи КН23-1 Сидоренко Андрій"
   ]
  },
  {
   "cell_type": "markdown",
   "metadata": {},
   "source": [
    "__Мета.__ _Засвоїти варіанти реалізації алгоритмів пошуку засобами Python і методи оцінки їх складності._ "
   ]
  },
  {
   "cell_type": "markdown",
   "metadata": {},
   "source": [
    "Одним з найпростіших алгоритмів пошуку є [_лінійний пошук_](https://uk.wikipedia.org/wiki/%D0%9B%D1%96%D0%BD%D1%96%D0%B9%D0%BD%D0%B8%D0%B9_%D0%BF%D0%BE%D1%88%D1%83%D0%BA). Сенс алгоритму полягає в тому, що пошук починають з першого елементу масива. Якщо поточний елемент списку не дорівнює шуканому значенню, то здійснюється перехід до наступного елементу. Таким чином, у результаті кожної перевірки область пошуку зменшується на один елемент.  \n",
    "\n",
    "Лінійний пошук також відомий, як _метод перебору_ або \"грубої сили\". Працює за час $O(n)$, де $n$ -- довжина списку на вході."
   ]
  },
  {
   "cell_type": "markdown",
   "metadata": {},
   "source": [
    "## Реалізація лінійного пошуку на Python"
   ]
  },
  {
   "cell_type": "code",
   "execution_count": 15,
   "metadata": {},
   "outputs": [],
   "source": [
    "# Якщо елемент не буде знайдено, виводиться -1\n",
    "def linear_search(a_list, x):\n",
    "    i, length = 0, len(a_list)\n",
    "    while i < length and x != a_list[i]:\n",
    "        i += 1\n",
    "    return i if i < length else -1   "
   ]
  },
  {
   "cell_type": "code",
   "execution_count": null,
   "metadata": {},
   "outputs": [],
   "source": [
    "search_item = int(input(\"Введіть шуканий елемент: \"))"
   ]
  },
  {
   "cell_type": "code",
   "execution_count": 3,
   "metadata": {},
   "outputs": [
    {
     "data": {
      "text/plain": [
       "-1"
      ]
     },
     "execution_count": 3,
     "metadata": {},
     "output_type": "execute_result"
    }
   ],
   "source": [
    "a = [32, 1, 3, 4, 2, 1]\n",
    "linear_search(a, search_item)"
   ]
  },
  {
   "cell_type": "markdown",
   "metadata": {},
   "source": [
    "__Завдання на самостійну роботу:__ Оцінити асимптотичну складність алгоритму лінійного пошуку у $О$-нотації."
   ]
  },
  {
   "cell_type": "markdown",
   "metadata": {},
   "source": [
    "__Відповідь:__ $O(n)$"
   ]
  },
  {
   "cell_type": "markdown",
   "metadata": {},
   "source": [
    "\n",
    "## Пошук у відсортованому масиві. Бінарний пошук "
   ]
  },
  {
   "cell_type": "markdown",
   "metadata": {},
   "source": [
    "Це класичний алгоритм пошуку елемента у відсортованому списку, який використовує дроблення масиву на половини. Алгоритм можна реалізувати рекурсивно. Нижче наведено [реалізацію](https://github.com/yorko/python_intro) для відсортованих списків без повторюваних елементів. Складність алгоритму - $O(log(n))$, де $n$ - довжина списку на вході.\n",
    "\n",
    "_[Алгоритм](https://younglinux.info/algorithm/dichotomy) полягає у наступному._\n",
    "\n",
    "1. Знаходиться середній елемент послідовності. Для цього перший і останній індекси зв'язуються зі змінними, а індекс середнього елемента обчислюється.  \n",
    "\n",
    "2. Значення середнього елемента порівнюється з шуканим значенням. Залежно від того, більше воно чи менше значення середнього елемента, подальший пошук буде відбуватися тільки в лівій або тільки в правій половинах масиву. Якщо значення середнього елемента виявляється рівним шуканому, пошук завершується.  \n",
    "\n",
    "3. Інакше одна з меж досліджуваної послідовності зсувається. Якщо шукане значення більше значення середнього елемента, то нижня межа зсувається за середній елемент на один елемент праворуч. Якщо шукане значення менше значення середнього елемента, то верхня межа зсувається на елемент перед середнім.\n",
    "\n",
    "4. Знову знаходиться середній елемент тепер уже в обраній половині. Описаний вище алгоритм повторюється для даного зрізу."
   ]
  },
  {
   "cell_type": "code",
   "execution_count": 6,
   "metadata": {},
   "outputs": [],
   "source": [
    "def bin_search(a_list, x, left, right):\n",
    "    if left > right or len(a_list) == 0:\n",
    "        return -1\n",
    "    middle = (left + right) // 2\n",
    "    if a_list[middle] == x:\n",
    "        return middle\n",
    "    elif (a_list[middle] < x):\n",
    "        return bin_search(a_list, x, middle + 1, right)\n",
    "    else:       # a_list[middle] > x\n",
    "        return bin_search(a_list, x, left, middle - 1)"
   ]
  },
  {
   "cell_type": "code",
   "execution_count": 5,
   "metadata": {},
   "outputs": [],
   "source": [
    "a = range(7,21)"
   ]
  },
  {
   "cell_type": "code",
   "execution_count": 6,
   "metadata": {},
   "outputs": [
    {
     "name": "stdout",
     "output_type": "stream",
     "text": [
      "Введіть шуканий елемент: 5\n"
     ]
    }
   ],
   "source": [
    "search_item = int(input(\"Введіть шуканий елемент: \"))"
   ]
  },
  {
   "cell_type": "code",
   "execution_count": 7,
   "metadata": {},
   "outputs": [
    {
     "data": {
      "text/plain": [
       "-1"
      ]
     },
     "execution_count": 7,
     "metadata": {},
     "output_type": "execute_result"
    }
   ],
   "source": [
    "bin_search(a, search_item, 0, len(a) - 1)"
   ]
  },
  {
   "cell_type": "markdown",
   "metadata": {},
   "source": [
    "__Завдання на самостійну роботу__:\n",
    "\n",
    "* Оцінити асимптотичну складність алгоритму бінарного пошуку пошуку у $О$-нотації.\n"
   ]
  },
  {
   "cell_type": "markdown",
   "metadata": {},
   "source": [
    "__Відповідь:__"
   ]
  },
  {
   "cell_type": "markdown",
   "metadata": {},
   "source": [
    "Асимптотична складність алгоритму бінарного пошуку= $O(log(n))$, бо він на кожному кроці ділить діапазон пошуку навпіл, а кожен наступний крок скорочує розмір діапазону вдвічі."
   ]
  },
  {
   "cell_type": "markdown",
   "metadata": {},
   "source": [
    "* написати функцію, яка б могла повертати датафрейм з наступним складом полів: (\"n\", \"time\"), де `n` -- розмір масиву для функції `linear_searh();"
   ]
  },
  {
   "cell_type": "markdown",
   "metadata": {},
   "source": [
    "__Відповідь:__"
   ]
  },
  {
   "cell_type": "code",
   "execution_count": 7,
   "metadata": {},
   "outputs": [],
   "source": [
    "def linear_search(a_list, x):\n",
    "    i, length = 0, len(a_list)\n",
    "    start_time = time.time() \n",
    "    while i < length and x != a_list[i]:\n",
    "        i += 1\n",
    "    end_time = time.time()   \n",
    "    return end_time - start_time  \n",
    "\n",
    "def measure_linear_search(n):\n",
    "    a_list = list(range(n)) \n",
    "    x = n + 1   \n",
    "    time_taken = linear_search(a_list, x) \n",
    "    return {\"n\": n, \"time\": time_taken}"
   ]
  },
  {
   "cell_type": "markdown",
   "metadata": {},
   "source": [
    "* написати функцію, яка б могла повертати датафрейм з наступним складом полів: (\"n\", \"time\"), де `n` -- розмір масиву для функції `bin_searh();"
   ]
  },
  {
   "cell_type": "markdown",
   "metadata": {},
   "source": [
    "__Відповідь:__"
   ]
  },
  {
   "cell_type": "code",
   "execution_count": 12,
   "metadata": {},
   "outputs": [],
   "source": [
    "import time\n",
    "def bin_search(a_list, x, left, right):\n",
    "    if left > right or len(a_list) == 0:\n",
    "        return -1\n",
    "    middle = (left + right) // 2\n",
    "    if a_list[middle] == x:\n",
    "        return middle\n",
    "    elif (a_list[middle] < x):\n",
    "        return bin_search(a_list, x, middle + 1, right)\n",
    "    else:     \n",
    "        return bin_search(a_list, x, left, middle - 1)\n",
    "\n",
    "def measure_bin_search(n):\n",
    "    a_list = list(range(n)) \n",
    "    x = n + 1               \n",
    "    left, right = 0, len(a_list) \n",
    "    start_time = time.time() \n",
    "    bin_search(a_list, x, left, right) \n",
    "    end_time = time.time() \n",
    "    return {\"n\": n, \"time\": end_time - start_time}"
   ]
  },
  {
   "cell_type": "markdown",
   "metadata": {},
   "source": [
    "* за результатами попередніх завдань побудувати графіки залежності часу виконання процедури пошуку від розміру масиву. Приклад побудови графіків у середовищі `Ipython` можна подивитися [тут](https://devpractice.ru/python-lesson-6-work-in-jupyter-notebook/).  "
   ]
  },
  {
   "cell_type": "markdown",
   "metadata": {},
   "source": [
    "__Відповідь:__"
   ]
  },
  {
   "cell_type": "code",
   "execution_count": 14,
   "metadata": {},
   "outputs": [
    {
     "data": {
      "image/png": "[encoded data removed]",
      "text/plain": [
       "<Figure size 1000x600 with 1 Axes>"
      ]
     },
     "metadata": {},
     "output_type": "display_data"
    }
   ],
   "source": [
    "import time\n",
    "import matplotlib.pyplot as plt\n",
    "\n",
    "def linear_search(a_list, x):\n",
    "    i, length = 0, len(a_list)\n",
    "    start_time = time.time()\n",
    "    while i < length and x != a_list[i]:\n",
    "        i += 1\n",
    "    return i if i < length else -1   \n",
    "\n",
    "def bin_search(a_list, x, left, right):\n",
    "    if left > right or len(a_list) == 0:\n",
    "        return -1\n",
    "    middle = (left + right) // 2\n",
    "    if a_list[middle] == x:\n",
    "        return middle\n",
    "    elif (a_list[middle] < x):\n",
    "        return bin_search(a_list, x, middle + 1, right)\n",
    "    else:       # a_list[middle] > x\n",
    "        return bin_search(a_list, x, left, middle - 1)\n",
    "\n",
    "def measure_linear_search(n):\n",
    "    a_list = list(range(n))\n",
    "    start_time = time.time()\n",
    "    x = n + 1\n",
    "    linear_search(a_list, x)\n",
    "    end_time = time.time()\n",
    "    return end_time - start_time\n",
    "\n",
    "def measure_bin_search(n):\n",
    "    a_list = list(range(n))\n",
    "    start_time = time.time()\n",
    "    x = n + 1\n",
    "    left, right = 0, len(a_list) - 1\n",
    "    bin_search(a_list, x, left, right)\n",
    "    end_time = time.time()\n",
    "    return end_time - start_time\n",
    "\n",
    "\n",
    "array_sizes = [100, 500, 1000, 5000, 10000]\n",
    "\n",
    "\n",
    "linear_search_times = [measure_linear_search(n) for n in array_sizes]\n",
    "bin_search_times = [measure_bin_search(n) for n in array_sizes]\n",
    "\n",
    "\n",
    "plt.figure(figsize=(10, 6))\n",
    "plt.plot(array_sizes, linear_search_times, label='Лінійний пошук', marker='o')\n",
    "plt.plot(array_sizes, bin_search_times, label='Бінарний пошук', marker='s')\n",
    "plt.xlabel('Розмір масиву')\n",
    "plt.ylabel('Час виконання (секунди)')\n",
    "plt.title('Графік залежності часу виконання пошукових методів від розміру масиву')\n",
    "plt.legend()\n",
    "plt.grid(True)\n",
    "plt.show()"
   ]
  },
  {
   "cell_type": "markdown",
   "metadata": {},
   "source": [
    "* оцінити, який з двох алгоритмів є більш ефективним та в якому діапазоні розміру задачі."
   ]
  },
  {
   "cell_type": "markdown",
   "metadata": {},
   "source": [
    "__Відповідь:__"
   ]
  },
  {
   "cell_type": "markdown",
   "metadata": {},
   "source": [
    "Згідно графіку, бінарний пошук є більш ефективним для великих розмірів масивів, особливо коли масиви вже відсортовані. Для невеликих розмірів масивів, коли асимптотична складність має менший вплив, лінійний пошук може бути ефективнішим."
   ]
  },
  {
   "cell_type": "markdown",
   "metadata": {},
   "source": [
    "## Завдання на лабораторну роботу"
   ]
  },
  {
   "cell_type": "markdown",
   "metadata": {},
   "source": [
    "1. Створити Notebook-документ за допомогою Jupyter Notebook. (Див. [тут](https://devpractice.ru/python-lesson-1-install/), [тут](https://devpractice.ru/python-lesson-6-work-in-jupyter-notebook/) і [тут](https://jupyter-notebook.readthedocs.io/en/stable/notebook.html)) і  реалізувати контрольні приклади, що розглядаються у даній роботі та виконати завдання, що винесено на самостійну роботу.\n",
    "\n",
    "1. Дати відповіді на контрольні запитання.\n",
    "\n",
    "1. Робочий документ оформити у вигляді Notebook-документу (файл __.ipynb__).\n",
    "\n",
    "1. Скомпілювати звіт у форматі __.html__. Для цього необхідно завантажити термінал і у командному рядку запустити наступну команду:\n",
    "\n",
    "`jupyter nbconvert lab_4_StudentLasName.ipynb --to html`\n",
    "\n",
    "1. Представити звіт у вигляді архіву. Проект має складатися мінімум з двох файлів: `lab_4_StudentLasName.ipynb` та `lab_4_StudentLasName.html`"
   ]
  },
  {
   "cell_type": "markdown",
   "metadata": {},
   "source": [
    "## Контрольні запитання"
   ]
  },
  {
   "cell_type": "markdown",
   "metadata": {},
   "source": [
    "__1.__ Дати визначення складності задачі з символом $\\Omega$."
   ]
  },
  {
   "cell_type": "markdown",
   "metadata": {},
   "source": [
    "__Відповідь:__"
   ]
  },
  {
   "cell_type": "markdown",
   "metadata": {},
   "source": [
    " Символ $\\Omega$ використовується для визначення нижньої межі складності алгоритму.\n",
    "\n",
    "Формально, складність задачі описується за допомогою $\\Omega$, якщо для даного алгоритму існує функція f(n), то вона описує мінімальну кількість операцій або ресурсів, яка потрібна для вирішення задачі, коли розмір вхідних даних зростає.\r\n"
   ]
  },
  {
   "cell_type": "markdown",
   "metadata": {},
   "source": [
    "__2.__ Функція часової складності має вигляд: $F(N)=N^3+7N^2-14N$. Як записати асимптотичну складність в нотації $O()$?"
   ]
  },
  {
   "cell_type": "markdown",
   "metadata": {},
   "source": [
    "__Відповідь:__"
   ]
  },
  {
   "cell_type": "markdown",
   "metadata": {},
   "source": [
    "Асимтотична складність = $O(n^3)$"
   ]
  },
  {
   "cell_type": "markdown",
   "metadata": {},
   "source": [
    "__3.__ Функція часової складності має вигляд: $F(N)=1.01^N+N^{10}$. Як записати аисмптотичну складність в нотації $O()$?"
   ]
  },
  {
   "cell_type": "markdown",
   "metadata": {},
   "source": [
    "__Відповідь:__"
   ]
  },
  {
   "cell_type": "markdown",
   "metadata": {},
   "source": [
    "Асимтотична складність = $1.01^n$"
   ]
  },
  {
   "cell_type": "markdown",
   "metadata": {},
   "source": [
    "__4.__ Функція часової складності має вигляд: $F(N)=N^{1.3}+10log_2N$. Як записати аисмптотичну складність в нотації $O()$?"
   ]
  },
  {
   "cell_type": "markdown",
   "metadata": {},
   "source": [
    "__Відповідь:__"
   ]
  },
  {
   "cell_type": "markdown",
   "metadata": {},
   "source": [
    "Асимтотична складність = $O(n^{1.3})$, бо $10log_2N$ буде зростати повільніше"
   ]
  },
  {
   "cell_type": "markdown",
   "metadata": {},
   "source": [
    "__5.__ У чому полягає ідея розпараллелювання обчислень і для чого вона використовується? Які з алгоритмів, наведених у даній лаораторній роботі дозволяють можливість розпаралелювання?"
   ]
  },
  {
   "cell_type": "markdown",
   "metadata": {},
   "source": [
    "__Відповідь:__"
   ]
  },
  {
   "cell_type": "markdown",
   "metadata": {},
   "source": [
    "Ідея розпаралелювання обчислень полягає в поділі обчислювальних задач на підзадачі, які можуть виконуватися одночасно на кількох процесорах або ядрах. Це дозволяє зменшити загальний час виконання задачі, підвищуючи ефективність використання обчислювальних ресурсів.\r\n",
    "\r\n",
    "У цій лабораторній роботі розпаралелення можно використовувати нбінарному пошукуям."
   ]
  },
  {
   "cell_type": "markdown",
   "metadata": {},
   "source": [
    "__6.__ Які існують шляхи підвищення обчислювальної швидкості алгоритмів? Який з них є найбільш ефективним?"
   ]
  },
  {
   "cell_type": "markdown",
   "metadata": {},
   "source": [
    "__Відповідь:__"
   ]
  },
  {
   "cell_type": "markdown",
   "metadata": {},
   "source": [
    "Розпаралелювання, підвищення продуктивності комп'ютера, оновлення комплектуючих, пониження асимптотичної складності, оптимізація коду, зменшення обсягу даних, оптимізація алгоритму. Але оптимізація алгоритмів та ефективне використання розпаралелювання є ключовими для покращення продуктивності."
   ]
  },
  {
   "cell_type": "markdown",
   "metadata": {},
   "source": [
    "## References"
   ]
  },
  {
   "cell_type": "markdown",
   "metadata": {},
   "source": [
    "1. [Anaconda (Python distribution).](https://uk.wikipedia.org/wiki/Anaconda_(Python_distribution))\n",
    "1. [Conda.](https://conda.io/en/latest/)\n",
    "1. [Научно-издательская система Quarto.](https://data-visualization-blog.netlify.app/posts/quarto/)\n",
    "1. [Callout Blocks. Markdown Syntax.](https://quarto.org/docs/authoring/callouts.html)\n",
    "1. [Алгоритми та структури даних на Pythob](https://github.com/yorko/python_intro)"
   ]
  }
 ],
 "metadata": {
  "kernelspec": {
   "display_name": "Python 3 (ipykernel)",
   "language": "python",
   "name": "python3"
  },
  "language_info": {
   "codemirror_mode": {
    "name": "ipython",
    "version": 3
   },
   "file_extension": ".py",
   "mimetype": "text/x-python",
   "name": "python",
   "nbconvert_exporter": "python",
   "pygments_lexer": "ipython3",
   "version": "3.12.2"
  }
 },
 "nbformat": 4,
 "nbformat_minor": 4
}
